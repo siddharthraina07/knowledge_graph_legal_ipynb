{
  "metadata": {
    "kernelspec": {
      "display_name": "Python 3",
      "name": "python3"
    },
    "language_info": {
      "name": "python",
      "version": "3.10.13",
      "mimetype": "text/x-python",
      "codemirror_mode": {
        "name": "ipython",
        "version": 3
      },
      "pygments_lexer": "ipython3",
      "nbconvert_exporter": "python",
      "file_extension": ".py"
    },
    "kaggle": {
      "accelerator": "nvidiaTeslaT4",
      "dataSources": [
        {
          "sourceId": 8856743,
          "sourceType": "datasetVersion",
          "datasetId": 5331662
        },
        {
          "sourceId": 8864572,
          "sourceType": "datasetVersion",
          "datasetId": 5335573
        },
        {
          "sourceId": 8913365,
          "sourceType": "datasetVersion",
          "datasetId": 5359890
        },
        {
          "sourceId": 8913734,
          "sourceType": "datasetVersion",
          "datasetId": 5360178
        }
      ],
      "dockerImageVersionId": 30733,
      "isInternetEnabled": true,
      "language": "python",
      "sourceType": "notebook",
      "isGpuEnabled": true
    },
    "colab": {
      "provenance": [],
      "gpuType": "T4"
    },
    "accelerator": "GPU"
  },
  "nbformat_minor": 0,
  "nbformat": 4,
  "cells": [
    {
      "cell_type": "code",
      "source": [
        "!pip install langchain_community"
      ],
      "metadata": {
        "execution": {
          "iopub.status.busy": "2024-07-10T09:34:40.636911Z",
          "iopub.execute_input": "2024-07-10T09:34:40.637600Z",
          "iopub.status.idle": "2024-07-10T09:34:59.828782Z",
          "shell.execute_reply.started": "2024-07-10T09:34:40.637572Z",
          "shell.execute_reply": "2024-07-10T09:34:59.827691Z"
        },
        "trusted": true,
        "colab": {
          "base_uri": "https://localhost:8080/"
        },
        "id": "vw5n5Z-qTTbA",
        "outputId": "203eb31e-0178-4246-97ff-3ae307510ac4"
      },
      "execution_count": 19,
      "outputs": [
        {
          "output_type": "stream",
          "name": "stdout",
          "text": [
            "Collecting langchain_community\n",
            "  Downloading langchain_community-0.2.7-py3-none-any.whl (2.2 MB)\n",
            "\u001b[2K     \u001b[90m━━━━━━━━━━━━━━━━━━━━━━━━━━━━━━━━━━━━━━━━\u001b[0m \u001b[32m2.2/2.2 MB\u001b[0m \u001b[31m13.3 MB/s\u001b[0m eta \u001b[36m0:00:00\u001b[0m\n",
            "\u001b[?25hRequirement already satisfied: PyYAML>=5.3 in /usr/local/lib/python3.10/dist-packages (from langchain_community) (6.0.1)\n",
            "Requirement already satisfied: SQLAlchemy<3,>=1.4 in /usr/local/lib/python3.10/dist-packages (from langchain_community) (2.0.31)\n",
            "Requirement already satisfied: aiohttp<4.0.0,>=3.8.3 in /usr/local/lib/python3.10/dist-packages (from langchain_community) (3.9.5)\n",
            "Collecting dataclasses-json<0.7,>=0.5.7 (from langchain_community)\n",
            "  Downloading dataclasses_json-0.6.7-py3-none-any.whl (28 kB)\n",
            "Collecting langchain<0.3.0,>=0.2.7 (from langchain_community)\n",
            "  Downloading langchain-0.2.7-py3-none-any.whl (983 kB)\n",
            "\u001b[2K     \u001b[90m━━━━━━━━━━━━━━━━━━━━━━━━━━━━━━━━━━━━━━━━\u001b[0m \u001b[32m983.6/983.6 kB\u001b[0m \u001b[31m23.5 MB/s\u001b[0m eta \u001b[36m0:00:00\u001b[0m\n",
            "\u001b[?25hCollecting langchain-core<0.3.0,>=0.2.12 (from langchain_community)\n",
            "  Downloading langchain_core-0.2.16-py3-none-any.whl (362 kB)\n",
            "\u001b[2K     \u001b[90m━━━━━━━━━━━━━━━━━━━━━━━━━━━━━━━━━━━━━━━━\u001b[0m \u001b[32m362.4/362.4 kB\u001b[0m \u001b[31m25.1 MB/s\u001b[0m eta \u001b[36m0:00:00\u001b[0m\n",
            "\u001b[?25hCollecting langsmith<0.2.0,>=0.1.0 (from langchain_community)\n",
            "  Downloading langsmith-0.1.85-py3-none-any.whl (127 kB)\n",
            "\u001b[2K     \u001b[90m━━━━━━━━━━━━━━━━━━━━━━━━━━━━━━━━━━━━━━━━\u001b[0m \u001b[32m127.9/127.9 kB\u001b[0m \u001b[31m18.0 MB/s\u001b[0m eta \u001b[36m0:00:00\u001b[0m\n",
            "\u001b[?25hRequirement already satisfied: numpy<2,>=1 in /usr/local/lib/python3.10/dist-packages (from langchain_community) (1.25.2)\n",
            "Requirement already satisfied: requests<3,>=2 in /usr/local/lib/python3.10/dist-packages (from langchain_community) (2.31.0)\n",
            "Requirement already satisfied: tenacity!=8.4.0,<9.0.0,>=8.1.0 in /usr/local/lib/python3.10/dist-packages (from langchain_community) (8.4.2)\n",
            "Requirement already satisfied: aiosignal>=1.1.2 in /usr/local/lib/python3.10/dist-packages (from aiohttp<4.0.0,>=3.8.3->langchain_community) (1.3.1)\n",
            "Requirement already satisfied: attrs>=17.3.0 in /usr/local/lib/python3.10/dist-packages (from aiohttp<4.0.0,>=3.8.3->langchain_community) (23.2.0)\n",
            "Requirement already satisfied: frozenlist>=1.1.1 in /usr/local/lib/python3.10/dist-packages (from aiohttp<4.0.0,>=3.8.3->langchain_community) (1.4.1)\n",
            "Requirement already satisfied: multidict<7.0,>=4.5 in /usr/local/lib/python3.10/dist-packages (from aiohttp<4.0.0,>=3.8.3->langchain_community) (6.0.5)\n",
            "Requirement already satisfied: yarl<2.0,>=1.0 in /usr/local/lib/python3.10/dist-packages (from aiohttp<4.0.0,>=3.8.3->langchain_community) (1.9.4)\n",
            "Requirement already satisfied: async-timeout<5.0,>=4.0 in /usr/local/lib/python3.10/dist-packages (from aiohttp<4.0.0,>=3.8.3->langchain_community) (4.0.3)\n",
            "Collecting marshmallow<4.0.0,>=3.18.0 (from dataclasses-json<0.7,>=0.5.7->langchain_community)\n",
            "  Downloading marshmallow-3.21.3-py3-none-any.whl (49 kB)\n",
            "\u001b[2K     \u001b[90m━━━━━━━━━━━━━━━━━━━━━━━━━━━━━━━━━━━━━━━━\u001b[0m \u001b[32m49.2/49.2 kB\u001b[0m \u001b[31m7.6 MB/s\u001b[0m eta \u001b[36m0:00:00\u001b[0m\n",
            "\u001b[?25hCollecting typing-inspect<1,>=0.4.0 (from dataclasses-json<0.7,>=0.5.7->langchain_community)\n",
            "  Downloading typing_inspect-0.9.0-py3-none-any.whl (8.8 kB)\n",
            "Collecting langchain-text-splitters<0.3.0,>=0.2.0 (from langchain<0.3.0,>=0.2.7->langchain_community)\n",
            "  Downloading langchain_text_splitters-0.2.2-py3-none-any.whl (25 kB)\n",
            "Requirement already satisfied: pydantic<3,>=1 in /usr/local/lib/python3.10/dist-packages (from langchain<0.3.0,>=0.2.7->langchain_community) (2.8.0)\n",
            "Collecting jsonpatch<2.0,>=1.33 (from langchain-core<0.3.0,>=0.2.12->langchain_community)\n",
            "  Downloading jsonpatch-1.33-py2.py3-none-any.whl (12 kB)\n",
            "Requirement already satisfied: packaging<25,>=23.2 in /usr/local/lib/python3.10/dist-packages (from langchain-core<0.3.0,>=0.2.12->langchain_community) (24.1)\n",
            "Collecting orjson<4.0.0,>=3.9.14 (from langsmith<0.2.0,>=0.1.0->langchain_community)\n",
            "  Downloading orjson-3.10.6-cp310-cp310-manylinux_2_17_x86_64.manylinux2014_x86_64.whl (141 kB)\n",
            "\u001b[2K     \u001b[90m━━━━━━━━━━━━━━━━━━━━━━━━━━━━━━━━━━━━━━━━\u001b[0m \u001b[32m141.1/141.1 kB\u001b[0m \u001b[31m22.0 MB/s\u001b[0m eta \u001b[36m0:00:00\u001b[0m\n",
            "\u001b[?25hRequirement already satisfied: charset-normalizer<4,>=2 in /usr/local/lib/python3.10/dist-packages (from requests<3,>=2->langchain_community) (3.3.2)\n",
            "Requirement already satisfied: idna<4,>=2.5 in /usr/local/lib/python3.10/dist-packages (from requests<3,>=2->langchain_community) (3.7)\n",
            "Requirement already satisfied: urllib3<3,>=1.21.1 in /usr/local/lib/python3.10/dist-packages (from requests<3,>=2->langchain_community) (2.0.7)\n",
            "Requirement already satisfied: certifi>=2017.4.17 in /usr/local/lib/python3.10/dist-packages (from requests<3,>=2->langchain_community) (2024.6.2)\n",
            "Requirement already satisfied: typing-extensions>=4.6.0 in /usr/local/lib/python3.10/dist-packages (from SQLAlchemy<3,>=1.4->langchain_community) (4.12.2)\n",
            "Requirement already satisfied: greenlet!=0.4.17 in /usr/local/lib/python3.10/dist-packages (from SQLAlchemy<3,>=1.4->langchain_community) (3.0.3)\n",
            "Collecting jsonpointer>=1.9 (from jsonpatch<2.0,>=1.33->langchain-core<0.3.0,>=0.2.12->langchain_community)\n",
            "  Downloading jsonpointer-3.0.0-py2.py3-none-any.whl (7.6 kB)\n",
            "Requirement already satisfied: annotated-types>=0.4.0 in /usr/local/lib/python3.10/dist-packages (from pydantic<3,>=1->langchain<0.3.0,>=0.2.7->langchain_community) (0.7.0)\n",
            "Requirement already satisfied: pydantic-core==2.20.0 in /usr/local/lib/python3.10/dist-packages (from pydantic<3,>=1->langchain<0.3.0,>=0.2.7->langchain_community) (2.20.0)\n",
            "Collecting mypy-extensions>=0.3.0 (from typing-inspect<1,>=0.4.0->dataclasses-json<0.7,>=0.5.7->langchain_community)\n",
            "  Downloading mypy_extensions-1.0.0-py3-none-any.whl (4.7 kB)\n",
            "Installing collected packages: orjson, mypy-extensions, marshmallow, jsonpointer, typing-inspect, jsonpatch, langsmith, dataclasses-json, langchain-core, langchain-text-splitters, langchain, langchain_community\n",
            "Successfully installed dataclasses-json-0.6.7 jsonpatch-1.33 jsonpointer-3.0.0 langchain-0.2.7 langchain-core-0.2.16 langchain-text-splitters-0.2.2 langchain_community-0.2.7 langsmith-0.1.85 marshmallow-3.21.3 mypy-extensions-1.0.0 orjson-3.10.6 typing-inspect-0.9.0\n"
          ]
        }
      ]
    },
    {
      "cell_type": "code",
      "source": [
        "!pip install PyPDF2 langchain langchain_groq"
      ],
      "metadata": {
        "execution": {
          "iopub.status.busy": "2024-07-10T09:34:59.830919Z",
          "iopub.execute_input": "2024-07-10T09:34:59.831219Z",
          "iopub.status.idle": "2024-07-10T09:35:13.157515Z",
          "shell.execute_reply.started": "2024-07-10T09:34:59.831190Z",
          "shell.execute_reply": "2024-07-10T09:35:13.156049Z"
        },
        "trusted": true,
        "colab": {
          "base_uri": "https://localhost:8080/"
        },
        "id": "ULu2t78gTTbD",
        "outputId": "d642ebf1-8315-49f9-f4ae-65d2a2f6c080"
      },
      "execution_count": 20,
      "outputs": [
        {
          "output_type": "stream",
          "name": "stdout",
          "text": [
            "Collecting PyPDF2\n",
            "  Downloading pypdf2-3.0.1-py3-none-any.whl (232 kB)\n",
            "\u001b[?25l     \u001b[90m━━━━━━━━━━━━━━━━━━━━━━━━━━━━━━━━━━━━━━━━\u001b[0m \u001b[32m0.0/232.6 kB\u001b[0m \u001b[31m?\u001b[0m eta \u001b[36m-:--:--\u001b[0m\r\u001b[2K     \u001b[91m━━━━━━━━━━━━━━━━━━━━━━━━━━━━━━━━━━━━━━\u001b[0m\u001b[91m╸\u001b[0m\u001b[90m━\u001b[0m \u001b[32m225.3/232.6 kB\u001b[0m \u001b[31m7.5 MB/s\u001b[0m eta \u001b[36m0:00:01\u001b[0m\r\u001b[2K     \u001b[90m━━━━━━━━━━━━━━━━━━━━━━━━━━━━━━━━━━━━━━━━\u001b[0m \u001b[32m232.6/232.6 kB\u001b[0m \u001b[31m6.1 MB/s\u001b[0m eta \u001b[36m0:00:00\u001b[0m\n",
            "\u001b[?25hRequirement already satisfied: langchain in /usr/local/lib/python3.10/dist-packages (0.2.7)\n",
            "Collecting langchain_groq\n",
            "  Downloading langchain_groq-0.1.6-py3-none-any.whl (14 kB)\n",
            "Requirement already satisfied: PyYAML>=5.3 in /usr/local/lib/python3.10/dist-packages (from langchain) (6.0.1)\n",
            "Requirement already satisfied: SQLAlchemy<3,>=1.4 in /usr/local/lib/python3.10/dist-packages (from langchain) (2.0.31)\n",
            "Requirement already satisfied: aiohttp<4.0.0,>=3.8.3 in /usr/local/lib/python3.10/dist-packages (from langchain) (3.9.5)\n",
            "Requirement already satisfied: async-timeout<5.0.0,>=4.0.0 in /usr/local/lib/python3.10/dist-packages (from langchain) (4.0.3)\n",
            "Requirement already satisfied: langchain-core<0.3.0,>=0.2.12 in /usr/local/lib/python3.10/dist-packages (from langchain) (0.2.16)\n",
            "Requirement already satisfied: langchain-text-splitters<0.3.0,>=0.2.0 in /usr/local/lib/python3.10/dist-packages (from langchain) (0.2.2)\n",
            "Requirement already satisfied: langsmith<0.2.0,>=0.1.17 in /usr/local/lib/python3.10/dist-packages (from langchain) (0.1.85)\n",
            "Requirement already satisfied: numpy<2,>=1 in /usr/local/lib/python3.10/dist-packages (from langchain) (1.25.2)\n",
            "Requirement already satisfied: pydantic<3,>=1 in /usr/local/lib/python3.10/dist-packages (from langchain) (2.8.0)\n",
            "Requirement already satisfied: requests<3,>=2 in /usr/local/lib/python3.10/dist-packages (from langchain) (2.31.0)\n",
            "Requirement already satisfied: tenacity!=8.4.0,<9.0.0,>=8.1.0 in /usr/local/lib/python3.10/dist-packages (from langchain) (8.4.2)\n",
            "Collecting groq<1,>=0.4.1 (from langchain_groq)\n",
            "  Downloading groq-0.9.0-py3-none-any.whl (103 kB)\n",
            "\u001b[2K     \u001b[90m━━━━━━━━━━━━━━━━━━━━━━━━━━━━━━━━━━━━━━━━\u001b[0m \u001b[32m103.5/103.5 kB\u001b[0m \u001b[31m16.1 MB/s\u001b[0m eta \u001b[36m0:00:00\u001b[0m\n",
            "\u001b[?25hRequirement already satisfied: aiosignal>=1.1.2 in /usr/local/lib/python3.10/dist-packages (from aiohttp<4.0.0,>=3.8.3->langchain) (1.3.1)\n",
            "Requirement already satisfied: attrs>=17.3.0 in /usr/local/lib/python3.10/dist-packages (from aiohttp<4.0.0,>=3.8.3->langchain) (23.2.0)\n",
            "Requirement already satisfied: frozenlist>=1.1.1 in /usr/local/lib/python3.10/dist-packages (from aiohttp<4.0.0,>=3.8.3->langchain) (1.4.1)\n",
            "Requirement already satisfied: multidict<7.0,>=4.5 in /usr/local/lib/python3.10/dist-packages (from aiohttp<4.0.0,>=3.8.3->langchain) (6.0.5)\n",
            "Requirement already satisfied: yarl<2.0,>=1.0 in /usr/local/lib/python3.10/dist-packages (from aiohttp<4.0.0,>=3.8.3->langchain) (1.9.4)\n",
            "Requirement already satisfied: anyio<5,>=3.5.0 in /usr/local/lib/python3.10/dist-packages (from groq<1,>=0.4.1->langchain_groq) (3.7.1)\n",
            "Requirement already satisfied: distro<2,>=1.7.0 in /usr/lib/python3/dist-packages (from groq<1,>=0.4.1->langchain_groq) (1.7.0)\n",
            "Collecting httpx<1,>=0.23.0 (from groq<1,>=0.4.1->langchain_groq)\n",
            "  Downloading httpx-0.27.0-py3-none-any.whl (75 kB)\n",
            "\u001b[2K     \u001b[90m━━━━━━━━━━━━━━━━━━━━━━━━━━━━━━━━━━━━━━━━\u001b[0m \u001b[32m75.6/75.6 kB\u001b[0m \u001b[31m10.6 MB/s\u001b[0m eta \u001b[36m0:00:00\u001b[0m\n",
            "\u001b[?25hRequirement already satisfied: sniffio in /usr/local/lib/python3.10/dist-packages (from groq<1,>=0.4.1->langchain_groq) (1.3.1)\n",
            "Requirement already satisfied: typing-extensions<5,>=4.7 in /usr/local/lib/python3.10/dist-packages (from groq<1,>=0.4.1->langchain_groq) (4.12.2)\n",
            "Requirement already satisfied: jsonpatch<2.0,>=1.33 in /usr/local/lib/python3.10/dist-packages (from langchain-core<0.3.0,>=0.2.12->langchain) (1.33)\n",
            "Requirement already satisfied: packaging<25,>=23.2 in /usr/local/lib/python3.10/dist-packages (from langchain-core<0.3.0,>=0.2.12->langchain) (24.1)\n",
            "Requirement already satisfied: orjson<4.0.0,>=3.9.14 in /usr/local/lib/python3.10/dist-packages (from langsmith<0.2.0,>=0.1.17->langchain) (3.10.6)\n",
            "Requirement already satisfied: annotated-types>=0.4.0 in /usr/local/lib/python3.10/dist-packages (from pydantic<3,>=1->langchain) (0.7.0)\n",
            "Requirement already satisfied: pydantic-core==2.20.0 in /usr/local/lib/python3.10/dist-packages (from pydantic<3,>=1->langchain) (2.20.0)\n",
            "Requirement already satisfied: charset-normalizer<4,>=2 in /usr/local/lib/python3.10/dist-packages (from requests<3,>=2->langchain) (3.3.2)\n",
            "Requirement already satisfied: idna<4,>=2.5 in /usr/local/lib/python3.10/dist-packages (from requests<3,>=2->langchain) (3.7)\n",
            "Requirement already satisfied: urllib3<3,>=1.21.1 in /usr/local/lib/python3.10/dist-packages (from requests<3,>=2->langchain) (2.0.7)\n",
            "Requirement already satisfied: certifi>=2017.4.17 in /usr/local/lib/python3.10/dist-packages (from requests<3,>=2->langchain) (2024.6.2)\n",
            "Requirement already satisfied: greenlet!=0.4.17 in /usr/local/lib/python3.10/dist-packages (from SQLAlchemy<3,>=1.4->langchain) (3.0.3)\n",
            "Requirement already satisfied: exceptiongroup in /usr/local/lib/python3.10/dist-packages (from anyio<5,>=3.5.0->groq<1,>=0.4.1->langchain_groq) (1.2.1)\n",
            "Collecting httpcore==1.* (from httpx<1,>=0.23.0->groq<1,>=0.4.1->langchain_groq)\n",
            "  Downloading httpcore-1.0.5-py3-none-any.whl (77 kB)\n",
            "\u001b[2K     \u001b[90m━━━━━━━━━━━━━━━━━━━━━━━━━━━━━━━━━━━━━━━━\u001b[0m \u001b[32m77.9/77.9 kB\u001b[0m \u001b[31m7.5 MB/s\u001b[0m eta \u001b[36m0:00:00\u001b[0m\n",
            "\u001b[?25hCollecting h11<0.15,>=0.13 (from httpcore==1.*->httpx<1,>=0.23.0->groq<1,>=0.4.1->langchain_groq)\n",
            "  Downloading h11-0.14.0-py3-none-any.whl (58 kB)\n",
            "\u001b[2K     \u001b[90m━━━━━━━━━━━━━━━━━━━━━━━━━━━━━━━━━━━━━━━━\u001b[0m \u001b[32m58.3/58.3 kB\u001b[0m \u001b[31m10.1 MB/s\u001b[0m eta \u001b[36m0:00:00\u001b[0m\n",
            "\u001b[?25hRequirement already satisfied: jsonpointer>=1.9 in /usr/local/lib/python3.10/dist-packages (from jsonpatch<2.0,>=1.33->langchain-core<0.3.0,>=0.2.12->langchain) (3.0.0)\n",
            "Installing collected packages: PyPDF2, h11, httpcore, httpx, groq, langchain_groq\n",
            "Successfully installed PyPDF2-3.0.1 groq-0.9.0 h11-0.14.0 httpcore-1.0.5 httpx-0.27.0 langchain_groq-0.1.6\n"
          ]
        }
      ]
    },
    {
      "cell_type": "code",
      "source": [
        "!  pip install PyPDF2"
      ],
      "metadata": {
        "execution": {
          "iopub.status.busy": "2024-07-10T09:35:13.159317Z",
          "iopub.execute_input": "2024-07-10T09:35:13.159797Z",
          "iopub.status.idle": "2024-07-10T09:35:25.167486Z",
          "shell.execute_reply.started": "2024-07-10T09:35:13.159742Z",
          "shell.execute_reply": "2024-07-10T09:35:25.166483Z"
        },
        "trusted": true,
        "colab": {
          "base_uri": "https://localhost:8080/"
        },
        "id": "Kjpb_hcITTbD",
        "outputId": "8370ab74-20f6-4415-c49e-95d7c54098ae"
      },
      "execution_count": 21,
      "outputs": [
        {
          "output_type": "stream",
          "name": "stdout",
          "text": [
            "Requirement already satisfied: PyPDF2 in /usr/local/lib/python3.10/dist-packages (3.0.1)\n"
          ]
        }
      ]
    },
    {
      "cell_type": "code",
      "source": [
        "!pip install  langchain langchain_community langchain_groq PyPDF2 concurrent"
      ],
      "metadata": {
        "execution": {
          "iopub.status.busy": "2024-07-10T09:35:25.169747Z",
          "iopub.execute_input": "2024-07-10T09:35:25.170017Z",
          "iopub.status.idle": "2024-07-10T09:35:27.253947Z",
          "shell.execute_reply.started": "2024-07-10T09:35:25.169986Z",
          "shell.execute_reply": "2024-07-10T09:35:27.252913Z"
        },
        "trusted": true,
        "colab": {
          "base_uri": "https://localhost:8080/"
        },
        "id": "CIhh8HN-TTbE",
        "outputId": "c55b1429-7151-4175-86c8-8178840c98c3"
      },
      "execution_count": 22,
      "outputs": [
        {
          "output_type": "stream",
          "name": "stdout",
          "text": [
            "Requirement already satisfied: langchain in /usr/local/lib/python3.10/dist-packages (0.2.7)\n",
            "Requirement already satisfied: langchain_community in /usr/local/lib/python3.10/dist-packages (0.2.7)\n",
            "Requirement already satisfied: langchain_groq in /usr/local/lib/python3.10/dist-packages (0.1.6)\n",
            "Requirement already satisfied: PyPDF2 in /usr/local/lib/python3.10/dist-packages (3.0.1)\n",
            "\u001b[31mERROR: Could not find a version that satisfies the requirement concurrent (from versions: none)\u001b[0m\u001b[31m\n",
            "\u001b[0m\u001b[31mERROR: No matching distribution found for concurrent\u001b[0m\u001b[31m\n",
            "\u001b[0m"
          ]
        }
      ]
    },
    {
      "cell_type": "code",
      "source": [
        "import PyPDF2\n",
        "from langchain.text_splitter import RecursiveCharacterTextSplitter\n",
        "from concurrent.futures import ThreadPoolExecutor\n",
        "from tenacity import retry, stop_after_attempt, wait_exponential\n",
        "import re\n",
        "from langchain_groq import ChatGroq\n",
        "import ast\n",
        "import json\n",
        "\n",
        "\n",
        "model_name = \"llama3-8b-8192\"\n",
        "llm = ChatGroq(temperature=0, groq_api_key=\"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\", model=model_name)\n",
        "\n",
        "def extract_text_from_pdf(pdf_path):\n",
        "    with open(pdf_path, 'rb') as file:\n",
        "        reader = PyPDF2.PdfReader(file)\n",
        "        text = \"\"\n",
        "        for page in reader.pages:\n",
        "            text += page.extract_text()\n",
        "    return text\n",
        "\n",
        "def split_text(text, chunk_size=30000, chunk_overlap=50):\n",
        "    text_splitter = RecursiveCharacterTextSplitter(\n",
        "        chunk_size=chunk_size,\n",
        "        chunk_overlap=chunk_overlap,\n",
        "    )\n",
        "    return text_splitter.split_text(text)\n",
        "\n",
        "@retry(stop=stop_after_attempt(3), wait=wait_exponential(multiplier=1, min=4, max=10))\n",
        "def extract_relations(chunk, llm):\n",
        "    try:\n",
        "        prompt = f\"\"\"\n",
        "you are an expert indian paralegal who can analyse any type of legal file like Civil Suits, Writ Petitions, Appeals (Civil), Criminal Appeals, Criminal Revisions, Bail Applications, Public Interest Litigation (PIL), Company Petitions, Service Writs.\n",
        "\n",
        "INTRO-\n",
        "I have a legal case file, detect its type and I need you to do named entity recognition accordingly in a legal and professional manner for all possible entities.\n",
        "and then a detailed relation extraction on all entities recognised to output tuples as (entity,relation,entity).\n",
        "\n",
        "Identify the relationships between the extracted entity value and output a list of dictionaries containing head,relation,tail. Further head and tails will contain entity name and entity type each.\n",
        "The tuples you generate will be used to develop a knowledge graph in accordance to the relations between entities later.\n",
        "\n",
        "ACTUAL INPUT TEXT:\n",
        "{chunk}\n",
        "\n",
        "INSTRUCTIONS-\n",
        "-you have to do all the extraction of tuples from the text mentioned above only which is the chunk\n",
        "-no tuples should be repeated.\n",
        "-revise the tuples before outputand only keep important and clear tuples which have valid values\n",
        "-entities which are none,na or not defined should not be included.\n",
        "-remove double quotes from the entities and relations in tuples. (\"'court'\" -> 'court')\n",
        "-entity \"type\" and \"relation\" values should be uppercase\n",
        "\n",
        "OUTPUT STRUCTURE-\n",
        "{{\"head\": {{\"name\": entity1_name, \"type\": ENTITY1_TYPE}}, \"relation\": RELATION_NAME, \"tail\": {{\"name\": entity2_name, \"type\": ENTITY2_TYPE}}}},\n",
        "\n",
        "THE BELOW EXAMPLE is NOT TO BE INCLUDED IN YOUR RESPONSE AS IT JUST FOR REFERENCE AND LEARNING\n",
        "AN EXAMPLE OUTPUT DICTIONARY OF A RANDOM CRIMINAL FILE AND THE FORMAT OF THIS SHOULD BE IMITATED -\n",
        "{{\n",
        "  \"head\": {{\"name\": \"High Court of Madhya Pradesh\", \"type\": \"COURT\"}},\n",
        "  \"relation\": \"HAS_REGISTERED\",\n",
        "  \"tail\": {{\"name\": \"Cr. Appeal No. 262/2002\", \"type\": \"CASE_NUMBER\"}}\n",
        "}}\n",
        "\n",
        "-the ouput you produce should strictly just be a list of dictionary of tuples and no other text or explanation should be generated\n",
        "\n",
        "    \"\"\"\n",
        "        response = llm.predict(prompt)\n",
        "        return response\n",
        "    except Exception as e:\n",
        "        print(f\"Error processing chunk: {e}\")\n",
        "        raise\n",
        "\n",
        "def process_chunks_batch(chunks, llm, batch_size=300):\n",
        "    all_relations = []\n",
        "    with ThreadPoolExecutor() as executor:\n",
        "        for i in range(0, len(chunks), batch_size):\n",
        "            batch = chunks[i:i+batch_size]\n",
        "            results = list(executor.map(lambda chunk: extract_relations(chunk, llm), batch))\n",
        "            all_relations.extend(results)\n",
        "    return all_relations\n",
        "\n",
        "def combine_results(all_relations):\n",
        "    return \"\\n\".join(all_relations)\n",
        "\n",
        "def extract_dictionaries(text):\n",
        "    dictionaries = []\n",
        "    current_dict = []\n",
        "    in_dict = False\n",
        "    bracket_depth = 0\n",
        "\n",
        "    i = 0\n",
        "    while i < len(text):\n",
        "        char = text[i]\n",
        "\n",
        "        if char == '{':\n",
        "            bracket_depth += 1\n",
        "            if bracket_depth == 1:\n",
        "                current_dict = []\n",
        "                in_dict = True\n",
        "            current_dict.append(char)\n",
        "\n",
        "        elif char == '}':\n",
        "            current_dict.append(char)\n",
        "            bracket_depth -= 1\n",
        "            if bracket_depth == 0 and in_dict:\n",
        "                in_dict = False\n",
        "                try:\n",
        "                    parsed_dict = ast.literal_eval(\"\".join(current_dict))\n",
        "                    if isinstance(parsed_dict, dict):\n",
        "                        dictionaries.append(parsed_dict)\n",
        "                except:\n",
        "                    pass\n",
        "                current_dict = []\n",
        "\n",
        "        elif in_dict:\n",
        "            current_dict.append(char)\n",
        "\n",
        "        i += 1\n",
        "\n",
        "    return dictionaries\n",
        "\n",
        "#helper function for remove_duplicate_dicts\n",
        "def dict_to_tuple(d):\n",
        "    if isinstance(d, dict):\n",
        "        return tuple((k, dict_to_tuple(v)) for k, v in sorted(d.items()))\n",
        "    elif isinstance(d, list):\n",
        "        return tuple(dict_to_tuple(v) for v in d)\n",
        "    else:\n",
        "        return d\n",
        "\n",
        "def remove_duplicate_dicts(dict_list):\n",
        "    seen = set()\n",
        "    unique_dicts = []\n",
        "    for d in dict_list:\n",
        "        # Convert the dictionary to a tuple representation\n",
        "        dict_tuple = dict_to_tuple(d)\n",
        "        if dict_tuple not in seen:\n",
        "            seen.add(dict_tuple)\n",
        "            unique_dicts.append(d)\n",
        "    return unique_dicts\n",
        "\n",
        "\n",
        "@retry(stop=stop_after_attempt(3), wait=wait_exponential(multiplier=1, min=4, max=10))\n",
        "def disambiguate_entities(tuples, llm):\n",
        "    try:\n",
        "        prompt = f\"\"\"\n",
        "you are a legal expert who is very good at entity disambiguation.\n",
        "You are provided with a dictionary of tuples representing entities and their relationships in the following format:\n",
        "[\n",
        "    \"head\": {{\n",
        "        \"name\": \"Entity Name\",\n",
        "        \"type\": \"Entity Type\"\n",
        "    }},\n",
        "    \"relation\": \"Relationship Type\",\n",
        "    \"tail\": {{\n",
        "        \"name\": \"Entity Name\",\n",
        "        \"type\": \"Entity Type\"\n",
        "    }}\n",
        "]\n",
        "Your task is to manually perform entity disambiguation on data by combining entities that are similar or have minor spelling differences. Additionally, ensure that the entity name and entity type are not the same (e.g., \"name\": \"Government\" and \"type\": \"government\" should be corrected).\n",
        "\n",
        "Identify entities with similar names or minor spelling differences (e.g., \"court\", \"Court\", \"court'\", \"COURT\") and combine them into a single entity.\n",
        "Correct any entities where the name and type are identical or very similar, ensuring that the type accurately represents the entity category.\n",
        "Return the corrected dictionary with disambiguated entities and relationships.\n",
        "Example Input:\n",
        "[\n",
        "    {{\"head\": {{\"name\": \"High Court of Madhya Pradesh\", \"type\": \"COURT\"}}, \"relation\": \"HAS_REGISTERED\", \"tail\": {{\"name\": \"Cr. Appeal No. 262/2002\", \"type\": \"CASE_NUMBER\"}}}},\n",
        "    {{\"head\": {{\"name\": \"High Court of Madhya Pradesh\", \"type\": \"COURT\"}}, \"relation\": \"DECIDED\", \"tail\": {{\"name\": \"Cr. Appeal No. 262/2002\", \"type\": \"CASE_NUMBER\"}}}},\n",
        "    {{\"head\": {{\"name\": \"High Court of MP\", \"type\": \"COURT\"}}, \"relation\": \"REVIEWED\", \"tail\": {{\"name\": \"Cr. Appeal No. 262/2002\", \"type\": \"CASE_NUMBER\"}}}},\n",
        "    {{\"head\": {{\"name\": \"court\", \"type\": \"COURT\"}}, \"relation\": \"HAS_CASE\", \"tail\": {{\"name\": \"case_number\", \"type\": \"CASE_NUMBER\"}}}}\n",
        "]\n",
        "\n",
        "Expected Output:\n",
        "[\n",
        "    {{\"head\": {{\"name\": \"High Court of Madhya Pradesh\", \"type\": \"COURT\"}}, \"relation\": \"HAS_REGISTERED\", \"tail\": {{\"name\": \"Cr. Appeal No. 262/2002\", \"type\": \"CASE_NUMBER\"}}}},\n",
        "    {{\"head\": {{\"name\": \"High Court of Madhya Pradesh\", \"type\": \"COURT\"}}, \"relation\": \"DECIDED\", \"tail\": {{\"name\": \"Cr. Appeal No. 262/2002\", \"type\": \"CASE_NUMBER\"}}}},\n",
        "    {{\"head\": {{\"name\": \"High Court of MP\", \"type\": \"COURT\"}}, \"relation\": \"REVIEWED\", \"tail\": {{\"name\": \"Cr. Appeal No. 262/2002\", \"type\": \"CASE_NUMBER\"}}}},\n",
        "    {{\"head\": {{\"name\": \"court\", \"type\": \"COURT\"}}, \"relation\": \"HAS_CASE\", \"tail\": {{\"name\": \"case_number\", \"type\": \"CASE_NUMBER\"}}}}\n",
        "]\n",
        "\n",
        "Actual input on which the processing has to be done- {tuples}\n",
        "Instructions:\n",
        "-entity \"type\" and \"relation\" values should be uppercase\n",
        "-try to retain the size of tuples and dont lose entities\n",
        "-Combine entities with minor spelling differences.\n",
        "-Ensure entity names and types are not identical.\n",
        "-Return the disambiguated and corrected dictionary in the given format\n",
        "-your response should just contain the output data structure\n",
        "        \"\"\"\n",
        "        response = llm.predict(prompt)\n",
        "        return response\n",
        "    except Exception as e:\n",
        "        print(f\"Error disambiguating entities: {e}\")\n",
        "        raise\n",
        "\n",
        "def get_relation_tuples_from_pdf(pdf_path):\n",
        "    content = extract_text_from_pdf(pdf_path)\n",
        "    chunks = split_text(content)\n",
        "    all_relations = process_chunks_batch(chunks, llm)\n",
        "    final_result = combine_results(all_relations)\n",
        "    dict_of_tuples = extract_dictionaries(final_result)\n",
        "    #disambiguated_dict = disambiguate_entities(dict_of_tuples, llm)\n",
        "    #extracted_dictionaries = extract_dictionaries(disambiguated_dict)\n",
        "    #unique_extracted_dictionaries = remove_duplicate_dicts(extracted_dictionaries)\n",
        "    return dict_of_tuples\n",
        "\n",
        "def main(pdf_path):\n",
        "    tuples=get_relation_tuples_from_pdf(pdf_path)\n",
        "    return tuples\n",
        "\n",
        "# Example usage:\n",
        "pdf_path = '/content/Uday_vs_State_Of_Karnataka_on_19_February_2003.PDF'\n",
        "response = main(pdf_path)"
      ],
      "metadata": {
        "_uuid": "8f2839f25d086af736a60e9eeb907d3b93b6e0e5",
        "_cell_guid": "b1076dfc-b9ad-4769-8c92-a6c4dae69d19",
        "execution": {
          "iopub.status.busy": "2024-07-10T10:12:29.470451Z",
          "iopub.execute_input": "2024-07-10T10:12:29.470819Z",
          "iopub.status.idle": "2024-07-10T10:12:39.650948Z",
          "shell.execute_reply.started": "2024-07-10T10:12:29.470792Z",
          "shell.execute_reply": "2024-07-10T10:12:39.650160Z"
        },
        "trusted": true,
        "id": "AaQ820NXTTbE"
      },
      "execution_count": 62,
      "outputs": []
    },
    {
      "cell_type": "code",
      "source": [
        "print(len(response),response)"
      ],
      "metadata": {
        "execution": {
          "iopub.status.busy": "2024-07-10T10:12:39.652447Z",
          "iopub.execute_input": "2024-07-10T10:12:39.653677Z",
          "iopub.status.idle": "2024-07-10T10:12:39.658585Z",
          "shell.execute_reply.started": "2024-07-10T10:12:39.653650Z",
          "shell.execute_reply": "2024-07-10T10:12:39.657648Z"
        },
        "trusted": true,
        "colab": {
          "base_uri": "https://localhost:8080/"
        },
        "id": "BXfstNZkTTbG",
        "outputId": "95af090f-7a0f-480b-e5e3-47bb7f9f2dc3"
      },
      "execution_count": 63,
      "outputs": [
        {
          "output_type": "stream",
          "name": "stdout",
          "text": [
            "24 [{'head': {'name': 'Uday', 'type': 'PERSON'}, 'relation': 'IS_ACCUSED', 'tail': {'name': 'State of Karnataka', 'type': 'STATE'}}, {'head': {'name': 'State of Karnataka', 'type': 'STATE'}, 'relation': 'FILED_CHARGES', 'tail': {'name': 'Uday', 'type': 'PERSON'}}, {'head': {'name': 'Bench', 'type': 'COURT'}, 'relation': 'HEARD_CASE', 'tail': {'name': 'Uday vs State Of Karnataka', 'type': 'CASE'}}, {'head': {'name': 'Uday vs State Of Karnataka', 'type': 'CASE'}, 'relation': 'WAS_HEARD', 'tail': {'name': 'Bench', 'type': 'COURT'}}, {'head': {'name': 'Rao Harnarain Singh', 'type': 'PERSON'}, 'relation': 'DELIVERED_JUDGMENT', 'tail': {'name': 'Uday vs State Of Karnataka', 'type': 'CASE'}}, {'head': {'name': 'Jayanti Rani Panda', 'type': 'PERSON'}, 'relation': 'CASE_REFERENCED', 'tail': {'name': 'Uday vs State Of Karnataka', 'type': 'CASE'}}, {'head': {'name': 'Vijayan Pillai', 'type': 'PERSON'}, 'relation': 'CASE_REFERENCED', 'tail': {'name': 'Uday vs State Of Karnataka', 'type': 'CASE'}}, {'head': {'name': 'Bhimrao Harnooji Wanjari', 'type': 'PERSON'}, 'relation': 'CASE_REFERENCED', 'tail': {'name': 'Uday vs State Of Karnataka', 'type': 'CASE'}}, {'head': {'name': 'Arjan Ram', 'type': 'PERSON'}, 'relation': 'CASE_REFERENCED', 'tail': {'name': 'Uday vs State Of Karnataka', 'type': 'CASE'}}, {'head': {'name': 'Anthonidas', 'type': 'PERSON'}, 'relation': 'CASE_REFERENCED', 'tail': {'name': 'Uday vs State Of Karnataka', 'type': 'CASE'}}, {'head': {'name': 'Saleha Khatoon', 'type': 'PERSON'}, 'relation': 'CASE_REFERENCED', 'tail': {'name': 'Uday vs State Of Karnataka', 'type': 'CASE'}}, {'head': {'name': 'Mango Ram', 'type': 'PERSON'}, 'relation': 'CASE_REFERENCED', 'tail': {'name': 'Uday vs State Of Karnataka', 'type': 'CASE'}}, {'head': {'name': 'State of H.P.', 'type': 'STATE'}, 'relation': 'CASE_REFERENCED', 'tail': {'name': 'Uday vs State Of Karnataka', 'type': 'CASE'}}, {'head': {'name': 'Uday', 'type': 'PERSON'}, 'relation': 'IS_INVOLVED_IN', 'tail': {'name': 'Rape Case', 'type': 'CASE'}}, {'head': {'name': 'Uday', 'type': 'PERSON'}, 'relation': 'LOVED', 'tail': {'name': 'Prosecutrix', 'type': 'PERSON'}}, {'head': {'name': 'Prosecutrix', 'type': 'PERSON'}, 'relation': 'GAVE_CONSENT', 'tail': {'name': 'Uday', 'type': 'PERSON'}}, {'head': {'name': 'Uday', 'type': 'PERSON'}, 'relation': 'MADE_PROMISE', 'tail': {'name': 'Prosecutrix', 'type': 'PERSON'}}, {'head': {'name': 'Prosecutrix', 'type': 'PERSON'}, 'relation': 'WENT_OUT', 'tail': {'name': 'Uday', 'type': 'PERSON'}}, {'head': {'name': 'Uday', 'type': 'PERSON'}, 'relation': 'HAD_SEXUAL_RELATIONSHIP', 'tail': {'name': 'Prosecutrix', 'type': 'PERSON'}}, {'head': {'name': 'Uday', 'type': 'PERSON'}, 'relation': 'WAS_ACQUITTED', 'tail': {'name': 'Court', 'type': 'COURT'}}, {'head': {'name': 'State Of Karnataka', 'type': 'ORGANIZATION'}, 'relation': 'FILED_CHARGES', 'tail': {'name': 'Uday', 'type': 'PERSON'}}, {'head': {'name': 'Court', 'type': 'COURT'}, 'relation': 'HEARD_CASE', 'tail': {'name': 'Uday vs State Of Karnataka', 'type': 'CASE'}}, {'head': {'name': 'Uday vs State Of Karnataka', 'type': 'CASE'}, 'relation': 'WAS_HEARD', 'tail': {'name': 'Court', 'type': 'COURT'}}, {'head': {'name': 'Indian Kanoon', 'type': 'WEBSITE'}, 'relation': 'HOSTED_CASE', 'tail': {'name': 'Uday vs State Of Karnataka', 'type': 'CASE'}}]\n"
          ]
        }
      ]
    },
    {
      "cell_type": "code",
      "source": [
        "# Function to extract dictionaries from openyyai JSON file and concatenate them with the llm output dictionaries\n",
        "\n",
        "def extract_and_concatenate(json_file_path, given_dicts):\n",
        "    with open(json_file_path, 'r') as file:\n",
        "        json_data = json.load(file)\n",
        "\n",
        "    extracted_dictionaries = json_data['tuples']  # Adjust this based on the actual structure of your JSON\n",
        "\n",
        "    # Concatenate the dictionaries\n",
        "    concatenated_dictionaries = given_dicts + extracted_dictionaries\n",
        "\n",
        "    return concatenated_dictionaries\n",
        "\n",
        "# Path to the uploaded JSON file\n",
        "json_file_path = 'uday_openyyai_response.json'\n",
        "\n",
        "# Extract and concatenate dictionaries\n",
        "result = extract_and_concatenate(json_file_path, response)\n",
        "\n",
        "print(len(result),result)\n",
        "\n",
        "# If you want to save the result back to a file\n",
        "with open('concatenated_dictionaries.json', 'w') as outfile:\n",
        "    json.dump(result, outfile, indent=4)"
      ],
      "metadata": {
        "colab": {
          "base_uri": "https://localhost:8080/"
        },
        "id": "-EuILtXqk2H-",
        "outputId": "0067aca5-ef5b-4993-d457-08cb7745e191"
      },
      "execution_count": 64,
      "outputs": [
        {
          "output_type": "stream",
          "name": "stdout",
          "text": [
            "129 [{'head': {'name': 'Uday', 'type': 'PERSON'}, 'relation': 'IS_ACCUSED', 'tail': {'name': 'State of Karnataka', 'type': 'STATE'}}, {'head': {'name': 'State of Karnataka', 'type': 'STATE'}, 'relation': 'FILED_CHARGES', 'tail': {'name': 'Uday', 'type': 'PERSON'}}, {'head': {'name': 'Bench', 'type': 'COURT'}, 'relation': 'HEARD_CASE', 'tail': {'name': 'Uday vs State Of Karnataka', 'type': 'CASE'}}, {'head': {'name': 'Uday vs State Of Karnataka', 'type': 'CASE'}, 'relation': 'WAS_HEARD', 'tail': {'name': 'Bench', 'type': 'COURT'}}, {'head': {'name': 'Rao Harnarain Singh', 'type': 'PERSON'}, 'relation': 'DELIVERED_JUDGMENT', 'tail': {'name': 'Uday vs State Of Karnataka', 'type': 'CASE'}}, {'head': {'name': 'Jayanti Rani Panda', 'type': 'PERSON'}, 'relation': 'CASE_REFERENCED', 'tail': {'name': 'Uday vs State Of Karnataka', 'type': 'CASE'}}, {'head': {'name': 'Vijayan Pillai', 'type': 'PERSON'}, 'relation': 'CASE_REFERENCED', 'tail': {'name': 'Uday vs State Of Karnataka', 'type': 'CASE'}}, {'head': {'name': 'Bhimrao Harnooji Wanjari', 'type': 'PERSON'}, 'relation': 'CASE_REFERENCED', 'tail': {'name': 'Uday vs State Of Karnataka', 'type': 'CASE'}}, {'head': {'name': 'Arjan Ram', 'type': 'PERSON'}, 'relation': 'CASE_REFERENCED', 'tail': {'name': 'Uday vs State Of Karnataka', 'type': 'CASE'}}, {'head': {'name': 'Anthonidas', 'type': 'PERSON'}, 'relation': 'CASE_REFERENCED', 'tail': {'name': 'Uday vs State Of Karnataka', 'type': 'CASE'}}, {'head': {'name': 'Saleha Khatoon', 'type': 'PERSON'}, 'relation': 'CASE_REFERENCED', 'tail': {'name': 'Uday vs State Of Karnataka', 'type': 'CASE'}}, {'head': {'name': 'Mango Ram', 'type': 'PERSON'}, 'relation': 'CASE_REFERENCED', 'tail': {'name': 'Uday vs State Of Karnataka', 'type': 'CASE'}}, {'head': {'name': 'State of H.P.', 'type': 'STATE'}, 'relation': 'CASE_REFERENCED', 'tail': {'name': 'Uday vs State Of Karnataka', 'type': 'CASE'}}, {'head': {'name': 'Uday', 'type': 'PERSON'}, 'relation': 'IS_INVOLVED_IN', 'tail': {'name': 'Rape Case', 'type': 'CASE'}}, {'head': {'name': 'Uday', 'type': 'PERSON'}, 'relation': 'LOVED', 'tail': {'name': 'Prosecutrix', 'type': 'PERSON'}}, {'head': {'name': 'Prosecutrix', 'type': 'PERSON'}, 'relation': 'GAVE_CONSENT', 'tail': {'name': 'Uday', 'type': 'PERSON'}}, {'head': {'name': 'Uday', 'type': 'PERSON'}, 'relation': 'MADE_PROMISE', 'tail': {'name': 'Prosecutrix', 'type': 'PERSON'}}, {'head': {'name': 'Prosecutrix', 'type': 'PERSON'}, 'relation': 'WENT_OUT', 'tail': {'name': 'Uday', 'type': 'PERSON'}}, {'head': {'name': 'Uday', 'type': 'PERSON'}, 'relation': 'HAD_SEXUAL_RELATIONSHIP', 'tail': {'name': 'Prosecutrix', 'type': 'PERSON'}}, {'head': {'name': 'Uday', 'type': 'PERSON'}, 'relation': 'WAS_ACQUITTED', 'tail': {'name': 'Court', 'type': 'COURT'}}, {'head': {'name': 'State Of Karnataka', 'type': 'ORGANIZATION'}, 'relation': 'FILED_CHARGES', 'tail': {'name': 'Uday', 'type': 'PERSON'}}, {'head': {'name': 'Court', 'type': 'COURT'}, 'relation': 'HEARD_CASE', 'tail': {'name': 'Uday vs State Of Karnataka', 'type': 'CASE'}}, {'head': {'name': 'Uday vs State Of Karnataka', 'type': 'CASE'}, 'relation': 'WAS_HEARD', 'tail': {'name': 'Court', 'type': 'COURT'}}, {'head': {'name': 'Indian Kanoon', 'type': 'WEBSITE'}, 'relation': 'HOSTED_CASE', 'tail': {'name': 'Uday vs State Of Karnataka', 'type': 'CASE'}}, {'head': {'name': 'Uday', 'type': 'PETITIONER'}, 'tail': {'name': 'State of Karnataka', 'type': 'RESPONDENT'}, 'relation': 'VS'}, {'head': {'name': 'State of Karnataka', 'type': 'RESPONDENT'}, 'tail': {'name': 'Uday', 'type': 'PETITIONER'}, 'relation': 'VS'}, {'head': {'name': 'Section 376', 'type': 'PROVISION'}, 'tail': {'name': 'Indian Penal Code', 'type': 'STATUTE'}, 'relation': 'PART_OF'}, {'head': {'name': 'Indian Penal Code', 'type': 'STATUTE'}, 'tail': {'name': 'Section 376', 'type': 'PROVISION'}, 'relation': 'CONTAINS'}, {'head': {'name': 'RLC', 'type': 'OUTSIDE_LABEL'}, 'tail': {'name': 'High Court of Karnataka at Bangalore', 'type': 'COURT'}, 'relation': 'DECIDED_BY'}, {'head': {'name': 'High Court of Karnataka at Bangalore', 'type': 'COURT'}, 'tail': {'name': 'RLC', 'type': 'OUTSIDE_LABEL'}, 'relation': 'DECIDES'}, {'head': {'name': 'Section 376', 'type': 'PROVISION'}, 'tail': {'name': 'Indian Penal Code', 'type': 'STATUTE'}, 'relation': 'PART_OF'}, {'head': {'name': 'Indian Penal Code', 'type': 'STATUTE'}, 'tail': {'name': 'Section 376', 'type': 'PROVISION'}, 'relation': 'CONTAINS'}, {'head': {'name': 'RLC', 'type': 'OUTSIDE_LABEL'}, 'tail': {'name': 'Sessions Judge, Karwar', 'type': 'COURT'}, 'relation': 'DECIDED_BY'}, {'head': {'name': 'Sessions Judge, Karwar', 'type': 'COURT'}, 'tail': {'name': 'RLC', 'type': 'OUTSIDE_LABEL'}, 'relation': 'DECIDES'}, {'head': {'name': 'Section 313', 'type': 'PROVISION'}, 'tail': {'name': 'Code of Criminal Procedure', 'type': 'STATUTE'}, 'relation': 'PART_OF'}, {'head': {'name': 'Code of Criminal Procedure', 'type': 'STATUTE'}, 'tail': {'name': 'Section 313', 'type': 'PROVISION'}, 'relation': 'CONTAINS'}, {'head': {'name': 'Section 375', 'type': 'PROVISION'}, 'tail': {'name': 'IPC', 'type': 'STATUTE'}, 'relation': 'PART_OF'}, {'head': {'name': 'IPC', 'type': 'STATUTE'}, 'tail': {'name': 'Section 375', 'type': 'PROVISION'}, 'relation': 'CONTAINS'}, {'head': {'name': 'IPC', 'type': 'STATUTE'}, 'tail': {'name': 'Section 90', 'type': 'PROVISION'}, 'relation': 'CONTAINS'}, {'head': {'name': 'Section 90', 'type': 'PROVISION'}, 'tail': {'name': 'IPC', 'type': 'STATUTE'}, 'relation': 'PART_OF'}, {'head': {'name': 'Section 376', 'type': 'PROVISION'}, 'tail': {'name': 'Indian Penal Code', 'type': 'STATUTE'}, 'relation': 'PART_OF'}, {'head': {'name': 'Indian Penal Code', 'type': 'STATUTE'}, 'tail': {'name': 'Section 376', 'type': 'PROVISION'}, 'relation': 'CONTAINS'}, {'head': {'name': 'Indian Penal Code', 'type': 'STATUTE'}, 'tail': {'name': 'Section 375', 'type': 'PROVISION'}, 'relation': 'CONTAINS'}, {'head': {'name': 'Indian Penal Code', 'type': 'STATUTE'}, 'tail': {'name': 'Section 90', 'type': 'PROVISION'}, 'relation': 'CONTAINS'}, {'head': {'name': 'Section 375', 'type': 'PROVISION'}, 'tail': {'name': 'Indian Penal Code', 'type': 'STATUTE'}, 'relation': 'PART_OF'}, {'head': {'name': 'Section 90', 'type': 'PROVISION'}, 'tail': {'name': 'Indian Penal Code', 'type': 'STATUTE'}, 'relation': 'PART_OF'}, {'head': {'name': 'Section 375', 'type': 'PROVISION'}, 'tail': {'name': 'Indian Penal Code', 'type': 'STATUTE'}, 'relation': 'PART_OF'}, {'head': {'name': 'Indian Penal Code', 'type': 'STATUTE'}, 'tail': {'name': 'Section 375', 'type': 'PROVISION'}, 'relation': 'CONTAINS'}, {'head': {'name': 'Indian Penal Code', 'type': 'STATUTE'}, 'tail': {'name': 'Section 90', 'type': 'PROVISION'}, 'relation': 'CONTAINS'}, {'head': {'name': 'Section 90', 'type': 'PROVISION'}, 'tail': {'name': 'Indian Penal Code', 'type': 'STATUTE'}, 'relation': 'PART_OF'}, {'head': {'name': 'Section 90', 'type': 'PROVISION'}, 'tail': {'name': 'Indian Penal Code', 'type': 'STATUTE'}, 'relation': 'PART_OF'}, {'head': {'name': 'Indian Penal Code', 'type': 'STATUTE'}, 'tail': {'name': 'Section 90', 'type': 'PROVISION'}, 'relation': 'CONTAINS'}, {'head': {'name': 'PRE_RELIED', 'type': 'OUTSIDE_LABEL'}, 'tail': {'name': 'isUday vs State Of Karnataka', 'type': 'PRECEDENT'}, 'relation': 'HAS'}, {'head': {'name': 'PRE_RELIED', 'type': 'OUTSIDE_LABEL'}, 'tail': {'name': 'Holman vs. The Queen : [1970] W.A.R. 2', 'type': 'PRECEDENT'}, 'relation': 'HAS'}, {'head': {'name': 'PRE_RELIED', 'type': 'OUTSIDE_LABEL'}, 'tail': {'name': 'R. vs. Olugboja : [1981] 3 W.L.R. 585', 'type': 'PRECEDENT'}, 'relation': 'HAS'}, {'head': {'name': 'PRE_RELIED', 'type': 'OUTSIDE_LABEL'}, 'tail': {'name': 'Queen vs. Clarence : (1888) 22 QBD 23', 'type': 'PRECEDENT'}, 'relation': 'HAS'}, {'head': {'name': 'PRE_RELIED', 'type': 'OUTSIDE_LABEL'}, 'tail': {'name': 'People vs. Perry, 26 Cal. App. 143', 'type': 'PRECEDENT'}, 'relation': 'HAS'}, {'head': {'name': 'PRE_RELIED', 'type': 'OUTSIDE_LABEL'}, 'tail': {'name': 'Rao Harnarain Singh vs. State : AIR 1958 Punjab 123', 'type': 'PRECEDENT'}, 'relation': 'HAS'}, {'head': {'name': 'PRE_RELIED', 'type': 'OUTSIDE_LABEL'}, 'tail': {'name': 'freelyUday vs State Of Karnataka', 'type': 'PRECEDENT'}, 'relation': 'HAS'}, {'head': {'name': 'Vijayan Pillai @ Babu vs. State of Kerala : 1989 (2) K.L.J.\\n234.', 'type': 'PRECEDENT'}, 'tail': {'name': 'High Court of Kerala', 'type': 'COURT'}, 'relation': 'ESTABLISHED_BY'}, {'head': {'name': 'PRE_RELIED', 'type': 'OUTSIDE_LABEL'}, 'tail': {'name': 'Vijayan Pillai @ Babu vs. State of Kerala : 1989 (2) K.L.J.\\n234.', 'type': 'PRECEDENT'}, 'relation': 'HAS'}, {'head': {'name': 'PRE_RELIED', 'type': 'OUTSIDE_LABEL'}, 'tail': {'name': 'Anthony alias Bakthavatsalu : AIR 1960 Madras 308', 'type': 'PRECEDENT'}, 'relation': 'HAS'}, {'head': {'name': 'PRE_RELIED', 'type': 'OUTSIDE_LABEL'}, 'tail': {'name': 'orUday vs State Of Karnataka', 'type': 'PRECEDENT'}, 'relation': 'HAS'}, {'head': {'name': 'Arjan Ram vs. The State : AIR 1960 Punjab 303', 'type': 'PRECEDENT'}, 'tail': {'name': 'Punjab High Court', 'type': 'COURT'}, 'relation': 'ESTABLISHED_BY'}, {'head': {'name': 'Arjan Ram vs. The State : AIR 1960 Punjab 303', 'type': 'PRECEDENT'}, 'tail': {'name': 'Rajasthan High Court', 'type': 'COURT'}, 'relation': 'ESTABLISHED_BY'}, {'head': {'name': 'Arjan Ram vs. The State : AIR 1960 Punjab 303', 'type': 'PRECEDENT'}, 'tail': {'name': 'Gopi Shankar vs. State : AIR 1967 Raj. 159', 'type': 'PRECEDENT'}, 'relation': 'SIMILAR_TO'}, {'head': {'name': 'Arjan Ram vs. The State : AIR 1960 Punjab 303', 'type': 'PRECEDENT'}, 'tail': {'name': 'Bombay High Court', 'type': 'COURT'}, 'relation': 'ESTABLISHED_BY'}, {'head': {'name': 'Arjan Ram vs. The State : AIR 1960 Punjab 303', 'type': 'PRECEDENT'}, 'tail': {'name': 'Bhimrao Harnooji Wanjari vs. State of Mahrashtra : 1975 Mah. L.J. 660', 'type': 'PRECEDENT'}, 'relation': 'SIMILAR_TO'}, {'head': {'name': 'Gopi Shankar vs. State : AIR 1967 Raj. 159', 'type': 'PRECEDENT'}, 'tail': {'name': 'Punjab High Court', 'type': 'COURT'}, 'relation': 'ESTABLISHED_BY'}, {'head': {'name': 'Gopi Shankar vs. State : AIR 1967 Raj. 159', 'type': 'PRECEDENT'}, 'tail': {'name': 'Arjan Ram vs. The State : AIR 1960 Punjab 303', 'type': 'PRECEDENT'}, 'relation': 'SIMILAR_TO'}, {'head': {'name': 'Gopi Shankar vs. State : AIR 1967 Raj. 159', 'type': 'PRECEDENT'}, 'tail': {'name': 'Rajasthan High Court', 'type': 'COURT'}, 'relation': 'ESTABLISHED_BY'}, {'head': {'name': 'Gopi Shankar vs. State : AIR 1967 Raj. 159', 'type': 'PRECEDENT'}, 'tail': {'name': 'Bombay High Court', 'type': 'COURT'}, 'relation': 'ESTABLISHED_BY'}, {'head': {'name': 'Gopi Shankar vs. State : AIR 1967 Raj. 159', 'type': 'PRECEDENT'}, 'tail': {'name': 'Bhimrao Harnooji Wanjari vs. State of Mahrashtra : 1975 Mah. L.J. 660', 'type': 'PRECEDENT'}, 'relation': 'SIMILAR_TO'}, {'head': {'name': 'Bhimrao Harnooji Wanjari vs. State of Mahrashtra : 1975 Mah. L.J. 660', 'type': 'PRECEDENT'}, 'tail': {'name': 'Punjab High Court', 'type': 'COURT'}, 'relation': 'ESTABLISHED_BY'}, {'head': {'name': 'Bhimrao Harnooji Wanjari vs. State of Mahrashtra : 1975 Mah. L.J. 660', 'type': 'PRECEDENT'}, 'tail': {'name': 'Arjan Ram vs. The State : AIR 1960 Punjab 303', 'type': 'PRECEDENT'}, 'relation': 'SIMILAR_TO'}, {'head': {'name': 'Bhimrao Harnooji Wanjari vs. State of Mahrashtra : 1975 Mah. L.J. 660', 'type': 'PRECEDENT'}, 'tail': {'name': 'Rajasthan High Court', 'type': 'COURT'}, 'relation': 'ESTABLISHED_BY'}, {'head': {'name': 'Bhimrao Harnooji Wanjari vs. State of Mahrashtra : 1975 Mah. L.J. 660', 'type': 'PRECEDENT'}, 'tail': {'name': 'Gopi Shankar vs. State : AIR 1967 Raj. 159', 'type': 'PRECEDENT'}, 'relation': 'SIMILAR_TO'}, {'head': {'name': 'Bhimrao Harnooji Wanjari vs. State of Mahrashtra : 1975 Mah. L.J. 660', 'type': 'PRECEDENT'}, 'tail': {'name': 'Bombay High Court', 'type': 'COURT'}, 'relation': 'ESTABLISHED_BY'}, {'head': {'name': 'PRE_RELIED', 'type': 'OUTSIDE_LABEL'}, 'tail': {'name': 'Arjan Ram vs. The State : AIR 1960 Punjab 303', 'type': 'PRECEDENT'}, 'relation': 'HAS'}, {'head': {'name': 'PRE_RELIED', 'type': 'OUTSIDE_LABEL'}, 'tail': {'name': 'Gopi Shankar vs. State : AIR 1967 Raj. 159', 'type': 'PRECEDENT'}, 'relation': 'HAS'}, {'head': {'name': 'PRE_RELIED', 'type': 'OUTSIDE_LABEL'}, 'tail': {'name': 'Bhimrao Harnooji Wanjari vs. State of Mahrashtra : 1975 Mah. L.J. 660', 'type': 'PRECEDENT'}, 'relation': 'HAS'}, {'head': {'name': 'PRE_RELIED', 'type': 'OUTSIDE_LABEL'}, 'tail': {'name': 'Jayanti Rani Panda vs. State of West Bengal and another :\\n1984 Crl. L.J. 1535', 'type': 'PRECEDENT'}, 'relation': 'HAS'}, {'head': {'name': 'Section 90', 'type': 'PROVISION'}, 'tail': {'name': 'Indian Penal Code', 'type': 'STATUTE'}, 'relation': 'PART_OF'}, {'head': {'name': 'Indian Penal Code', 'type': 'STATUTE'}, 'tail': {'name': 'Section 90', 'type': 'PROVISION'}, 'relation': 'CONTAINS'}, {'head': {'name': 'S. 90', 'type': 'PROVISION'}, 'tail': {'name': 'IPC', 'type': 'STATUTE'}, 'relation': 'PART_OF'}, {'head': {'name': 'IPC', 'type': 'STATUTE'}, 'tail': {'name': 'S. 90', 'type': 'PROVISION'}, 'relation': 'CONTAINS'}, {'head': {'name': 'Hari Majhi vs. The State :\\n1990 Crl. L.J. 650', 'type': 'PRECEDENT'}, 'tail': {'name': 'Abhoy Pradhan vs. State of West Bengal :Uday vs State Of Karnataka', 'type': 'PRECEDENT'}, 'relation': 'SIMILAR_TO'}, {'head': {'name': 'Hari Majhi vs. The State :\\n1990 Crl. L.J. 650', 'type': 'PRECEDENT'}, 'tail': {'name': 'High Court of Karnataka', 'type': 'COURT'}, 'relation': 'ESTABLISHED_BY'}, {'head': {'name': 'Hari Majhi vs. The State :\\n1990 Crl. L.J. 650', 'type': 'PRECEDENT'}, 'tail': {'name': 'State of Karnataka vs. Anthonidas : ILR 2000 Kar. 266', 'type': 'PRECEDENT'}, 'relation': 'SIMILAR_TO'}, {'head': {'name': 'Abhoy Pradhan vs. State of West Bengal :Uday vs State Of Karnataka', 'type': 'PRECEDENT'}, 'tail': {'name': 'Hari Majhi vs. The State :\\n1990 Crl. L.J. 650', 'type': 'PRECEDENT'}, 'relation': 'SIMILAR_TO'}, {'head': {'name': 'Abhoy Pradhan vs. State of West Bengal :Uday vs State Of Karnataka', 'type': 'PRECEDENT'}, 'tail': {'name': 'High Court of Karnataka', 'type': 'COURT'}, 'relation': 'ESTABLISHED_BY'}, {'head': {'name': 'Abhoy Pradhan vs. State of West Bengal :Uday vs State Of Karnataka', 'type': 'PRECEDENT'}, 'tail': {'name': 'State of Karnataka vs. Anthonidas : ILR 2000 Kar. 266', 'type': 'PRECEDENT'}, 'relation': 'SIMILAR_TO'}, {'head': {'name': 'State of Karnataka vs. Anthonidas : ILR 2000 Kar. 266', 'type': 'PRECEDENT'}, 'tail': {'name': 'Hari Majhi vs. The State :\\n1990 Crl. L.J. 650', 'type': 'PRECEDENT'}, 'relation': 'SIMILAR_TO'}, {'head': {'name': 'State of Karnataka vs. Anthonidas : ILR 2000 Kar. 266', 'type': 'PRECEDENT'}, 'tail': {'name': 'Abhoy Pradhan vs. State of West Bengal :Uday vs State Of Karnataka', 'type': 'PRECEDENT'}, 'relation': 'SIMILAR_TO'}, {'head': {'name': 'State of Karnataka vs. Anthonidas : ILR 2000 Kar. 266', 'type': 'PRECEDENT'}, 'tail': {'name': 'High Court of Karnataka', 'type': 'COURT'}, 'relation': 'ESTABLISHED_BY'}, {'head': {'name': 'PRE_RELIED', 'type': 'OUTSIDE_LABEL'}, 'tail': {'name': 'Hari Majhi vs. The State :\\n1990 Crl. L.J. 650', 'type': 'PRECEDENT'}, 'relation': 'HAS'}, {'head': {'name': 'PRE_RELIED', 'type': 'OUTSIDE_LABEL'}, 'tail': {'name': 'Abhoy Pradhan vs. State of West Bengal :Uday vs State Of Karnataka', 'type': 'PRECEDENT'}, 'relation': 'HAS'}, {'head': {'name': 'PRE_RELIED', 'type': 'OUTSIDE_LABEL'}, 'tail': {'name': 'State of Karnataka vs. Anthonidas : ILR 2000 Kar. 266', 'type': 'PRECEDENT'}, 'relation': 'HAS'}, {'head': {'name': 'Nilambar Goudo vs. The State and another : 1982 Crl. L. J. NOC 172 (Orissa)', 'type': 'PRECEDENT'}, 'tail': {'name': 'Orissa High Court', 'type': 'COURT'}, 'relation': 'ESTABLISHED_BY'}, {'head': {'name': 'Nilambar Goudo vs. The State and another : 1982 Crl. L. J. NOC 172 (Orissa)', 'type': 'PRECEDENT'}, 'tail': {'name': 'Patna High Court', 'type': 'COURT'}, 'relation': 'ESTABLISHED_BY'}, {'head': {'name': 'PRE_RELIED', 'type': 'OUTSIDE_LABEL'}, 'tail': {'name': 'Nilambar Goudo vs. The State and another : 1982 Crl. L. J. NOC 172 (Orissa)', 'type': 'PRECEDENT'}, 'relation': 'HAS'}, {'head': {'name': 'PRE_RELIED', 'type': 'OUTSIDE_LABEL'}, 'tail': {'name': 'Saleha Khatoon vs. State of Bihar and another : 1989 Crl. L.J. 202', 'type': 'PRECEDENT'}, 'relation': 'HAS'}, {'head': {'name': 'Section 498', 'type': 'PROVISION'}, 'tail': {'name': 'IPC', 'type': 'STATUTE'}, 'relation': 'PART_OF'}, {'head': {'name': 'IPC', 'type': 'STATUTE'}, 'tail': {'name': 'Section 498', 'type': 'PROVISION'}, 'relation': 'CONTAINS'}, {'head': {'name': 'IPC', 'type': 'STATUTE'}, 'tail': {'name': 'Section 376', 'type': 'PROVISION'}, 'relation': 'CONTAINS'}, {'head': {'name': 'Section 376', 'type': 'PROVISION'}, 'tail': {'name': 'IPC', 'type': 'STATUTE'}, 'relation': 'PART_OF'}, {'head': {'name': 'Section 209', 'type': 'PROVISION'}, 'tail': {'name': 'Cr. P.C.', 'type': 'STATUTE'}, 'relation': 'PART_OF'}, {'head': {'name': 'Cr. P.C.', 'type': 'STATUTE'}, 'tail': {'name': 'Section 209', 'type': 'PROVISION'}, 'relation': 'CONTAINS'}, {'head': {'name': 'Section 376', 'type': 'PROVISION'}, 'tail': {'name': 'IPC', 'type': 'STATUTE'}, 'relation': 'PART_OF'}, {'head': {'name': 'IPC', 'type': 'STATUTE'}, 'tail': {'name': 'Section 376', 'type': 'PROVISION'}, 'relation': 'CONTAINS'}, {'head': {'name': 'Section 376', 'type': 'PROVISION'}, 'tail': {'name': 'IPC', 'type': 'STATUTE'}, 'relation': 'PART_OF'}, {'head': {'name': 'IPC', 'type': 'STATUTE'}, 'tail': {'name': 'Section 376', 'type': 'PROVISION'}, 'relation': 'CONTAINS'}, {'head': {'name': 'State of H.P. vs. Mango Ram (2000) 7 SCC 224', 'type': 'PRECEDENT'}, 'tail': {'name': 'Punjab High Court', 'type': 'COURT'}, 'relation': 'ESTABLISHED_BY'}, {'head': {'name': 'State of H.P. vs. Mango Ram (2000) 7 SCC 224', 'type': 'PRECEDENT'}, 'tail': {'name': 'Kerala High Court', 'type': 'COURT'}, 'relation': 'ESTABLISHED_BY'}, {'head': {'name': 'PRE_RELIED', 'type': 'OUTSIDE_LABEL'}, 'tail': {'name': 'State of H.P. vs. Mango Ram (2000) 7 SCC 224', 'type': 'PRECEDENT'}, 'relation': 'HAS'}, {'head': {'name': 'Section 90', 'type': 'PROVISION'}, 'tail': {'name': 'IPC', 'type': 'STATUTE'}, 'relation': 'PART_OF'}, {'head': {'name': 'IPC', 'type': 'STATUTE'}, 'tail': {'name': 'Section 90', 'type': 'PROVISION'}, 'relation': 'CONTAINS'}, {'head': {'name': 'Section 375 Fourthly and Fifthly', 'type': 'PROVISION'}, 'tail': {'name': 'IPC', 'type': 'STATUTE'}, 'relation': 'PART_OF'}, {'head': {'name': 'Section 90', 'type': 'PROVISION'}, 'tail': {'name': 'IPC', 'type': 'STATUTE'}, 'relation': 'PART_OF'}, {'head': {'name': 'Section 375', 'type': 'PROVISION'}, 'tail': {'name': 'IPC', 'type': 'STATUTE'}, 'relation': 'PART_OF'}, {'head': {'name': 'IPC', 'type': 'STATUTE'}, 'tail': {'name': 'Section 375 Fourthly and Fifthly', 'type': 'PROVISION'}, 'relation': 'CONTAINS'}, {'head': {'name': 'IPC', 'type': 'STATUTE'}, 'tail': {'name': 'Section 90', 'type': 'PROVISION'}, 'relation': 'CONTAINS'}, {'head': {'name': 'IPC', 'type': 'STATUTE'}, 'tail': {'name': 'Section 375', 'type': 'PROVISION'}, 'relation': 'CONTAINS'}, {'head': {'name': 'Section 376', 'type': 'PROVISION'}, 'tail': {'name': 'IPC', 'type': 'STATUTE'}, 'relation': 'PART_OF'}, {'head': {'name': 'IPC', 'type': 'STATUTE'}, 'tail': {'name': 'Section 376', 'type': 'PROVISION'}, 'relation': 'CONTAINS'}, {'head': {'name': 'Criminal Appeal No. 428 of 1992', 'type': 'CASE_NO'}, 'tail': {'name': 'The trial court as well as the High Court have concurrently held that though the prosecutrix had consented to sexual intercourse with the appellant, the consent was obtained by fraud and deception inasmuch as the appellant induced her to consent on the promise that he shall marry her.\\n\\nThe defence of the appellant was one of outright denial.\\n\\nThe Sessions Judge accepting the evidence of the prosecutrix concluded that though she had consented to have sexual intercourse with the appellant, that consent was not consent within the meaning of Section 375 Secondly IPC having regard to Section 90.\\nHe, therefore, held that in the facts and circumstances of the case, the appellant had sexual intercourse with the prosecutrix without her consent and was, therefore, guilty of the offence of rape punishable under Section 376 of the Indian Penal Code.\\n', 'type': 'FACTS'}, 'relation': 'HAS_FACTS'}, {'head': {'name': 'Criminal Appeal No. 428 of 1992', 'type': 'CASE_NO'}, 'tail': {'name': 'A belief that the promise of marriage was meant to be fulfilled is not a misconception of fact.\\n', 'type': 'ARGUMENTS'}, 'relation': 'HAS_ARGUMENT'}, {'head': {'name': 'Criminal Appeal No. 428 of 1992', 'type': 'CASE_NO'}, 'tail': {'name': 'The question of misconception of fact will arise only if the act consented to, is believed by the person consenting to be something else, and on that pretext sexual intercourse isUday vs State Of Karnataka on 19 February, 2003 Indian Kanoon - http://indiankanoon.org/doc/1100330/ 4committed.\\nIn such cases it cannot be said that she consented to sexual intercourse.\\nIn Jayanti Rani Panda vs. State of West Bengal and another :\\n1984 Crl. L.J. 1535 the facts were somewhat similar.\\n(Saleha Khatoon vs. State of Bihar and another : 1989 Crl. L.J. 202).\\n\\nIt therefore appears that the consensus of judicial opinion is in favour of the view that the consent given by the prosecutrix to sexual intercourse with a person with whomUday vs State Of Karnataka on 19 February, 2003 Indian Kanoon - http://indiankanoon.org/doc/1100330/ 8she is deeply in love on a promise that he would marry her on a later date, cannot be said to be given under a misconception of fact.\\nA false promise is not a fact within the meaning of the Code.\\nIn the ultimate analysis, the tests laid down by the Courts provide at best guidance to the judicial mind while considering a question of consent,\\nbut the Court must, in each case, consider the evidence before it and the surrounding circumstances, before reaching a conclusion, because each case has its own peculiar facts which may have a bearing on the question whether the consent was voluntary,\\nor was given under a misconception of fact.\\nIt must also weigh the evidence keeping in view the fact that the burden is on the prosecution to prove each and every ingredient of the offence, absence of consent being one of them.\\nIn the instant case, the prosecutrix was a grown up girl studying in a college.\\nShe was deeply in love with the appellant.\\nShe was however aware of the fact that since they belonged to different castes, marriage was not possible.\\nIn any event the proposal for their marriage was bound to be seriously opposed by their family members.\\nShe had sufficient intelligence to understand the significance and moral quality of the act she was consenting to.\\nDespite this, she did not resist the overtures of the appellant, and in fact succumbed to it.\\nShe thus freely exercised a choice between resistance and assent.\\nShe must have known the consequences of the act, particularly when she was conscious of the fact that their marriage may not take place at all on account of caste considerations.\\nAll these circumstances lead us to the conclusion that she freely, voluntarily, and consciously consented to having sexual intercourse with the appellant, and her consent was not in consequence of any misconception of fact.\\nThere is no evidence to prove conclusively that the appellant never intended to marry her.\\nPerhaps he wanted to, but was not able to gather enough courage to disclose his intention to his family members for fear of strong opposition from them.\\nIn a case of this nature two conditions must be fulfilled for the application of Section 90 IPC.\\n\\nFirstly, it must be shown that the consent was given under a misconception of fact.\\n\\nSecondly, it must be proved that the person who obtained the consent knew, or had reason to believe that the consent was given in consequence of such misconception.\\nThere was therefore a distinct possibility, of which she was clearly conscious, that the marriage may not take place at all despite the promise of the appellant.\\nIt usually happens in such cases, when two young persons are madly in love, that they promise to each other several times that come what may, they will get married.\\nIn such circumstances the promise loses all significance, particularly when they are over come with emotions and passion and find themselves in situations and circumstances where they, in a weak moment, succumb to the temptation of having sexual relationship.\\nIn any event, it was not possible for the appellant to know what was in the mind of the prosecutrix when she consented, because there were more reasons than one for her to consent.\\nUday vs State Of Karnataka on 19 February, 2003 Indian Kanoon - http://indiankanoon.org/doc/1100330/\\n', 'type': 'ANALYSIS'}, 'relation': 'HAS_ANALYSIS'}, {'head': {'name': 'Criminal Appeal No. 428 of 1992', 'type': 'CASE_NO'}, 'tail': {'name': '\\nIn the result, this appeal must succeed, and is accordingly allowed.\\nThe impugned judgment and order convicting and sentencing the appellant for the offence punishable under Section 376 IPC is set aside, and the appellant stands acquitted of the charge.\\nSince the appellant was granted exemption from surrendering when the special leave was granted, no further order for his release is necessary.\\n', 'type': 'DECISION'}, 'relation': 'HAS_DECISION'}]\n"
          ]
        }
      ]
    },
    {
      "cell_type": "code",
      "source": [
        "#handling duplicates after concat\n",
        "result=remove_duplicate_dicts(result)\n",
        "print(len(result),result)\n"
      ],
      "metadata": {
        "colab": {
          "base_uri": "https://localhost:8080/"
        },
        "id": "DlhcP5Hd0goM",
        "outputId": "5b7b4fcd-e3f2-4fba-bc6d-3f78c6cd4d1e"
      },
      "execution_count": 65,
      "outputs": [
        {
          "output_type": "stream",
          "name": "stdout",
          "text": [
            "105 [{'head': {'name': 'Uday', 'type': 'PERSON'}, 'relation': 'IS_ACCUSED', 'tail': {'name': 'State of Karnataka', 'type': 'STATE'}}, {'head': {'name': 'State of Karnataka', 'type': 'STATE'}, 'relation': 'FILED_CHARGES', 'tail': {'name': 'Uday', 'type': 'PERSON'}}, {'head': {'name': 'Bench', 'type': 'COURT'}, 'relation': 'HEARD_CASE', 'tail': {'name': 'Uday vs State Of Karnataka', 'type': 'CASE'}}, {'head': {'name': 'Uday vs State Of Karnataka', 'type': 'CASE'}, 'relation': 'WAS_HEARD', 'tail': {'name': 'Bench', 'type': 'COURT'}}, {'head': {'name': 'Rao Harnarain Singh', 'type': 'PERSON'}, 'relation': 'DELIVERED_JUDGMENT', 'tail': {'name': 'Uday vs State Of Karnataka', 'type': 'CASE'}}, {'head': {'name': 'Jayanti Rani Panda', 'type': 'PERSON'}, 'relation': 'CASE_REFERENCED', 'tail': {'name': 'Uday vs State Of Karnataka', 'type': 'CASE'}}, {'head': {'name': 'Vijayan Pillai', 'type': 'PERSON'}, 'relation': 'CASE_REFERENCED', 'tail': {'name': 'Uday vs State Of Karnataka', 'type': 'CASE'}}, {'head': {'name': 'Bhimrao Harnooji Wanjari', 'type': 'PERSON'}, 'relation': 'CASE_REFERENCED', 'tail': {'name': 'Uday vs State Of Karnataka', 'type': 'CASE'}}, {'head': {'name': 'Arjan Ram', 'type': 'PERSON'}, 'relation': 'CASE_REFERENCED', 'tail': {'name': 'Uday vs State Of Karnataka', 'type': 'CASE'}}, {'head': {'name': 'Anthonidas', 'type': 'PERSON'}, 'relation': 'CASE_REFERENCED', 'tail': {'name': 'Uday vs State Of Karnataka', 'type': 'CASE'}}, {'head': {'name': 'Saleha Khatoon', 'type': 'PERSON'}, 'relation': 'CASE_REFERENCED', 'tail': {'name': 'Uday vs State Of Karnataka', 'type': 'CASE'}}, {'head': {'name': 'Mango Ram', 'type': 'PERSON'}, 'relation': 'CASE_REFERENCED', 'tail': {'name': 'Uday vs State Of Karnataka', 'type': 'CASE'}}, {'head': {'name': 'State of H.P.', 'type': 'STATE'}, 'relation': 'CASE_REFERENCED', 'tail': {'name': 'Uday vs State Of Karnataka', 'type': 'CASE'}}, {'head': {'name': 'Uday', 'type': 'PERSON'}, 'relation': 'IS_INVOLVED_IN', 'tail': {'name': 'Rape Case', 'type': 'CASE'}}, {'head': {'name': 'Uday', 'type': 'PERSON'}, 'relation': 'LOVED', 'tail': {'name': 'Prosecutrix', 'type': 'PERSON'}}, {'head': {'name': 'Prosecutrix', 'type': 'PERSON'}, 'relation': 'GAVE_CONSENT', 'tail': {'name': 'Uday', 'type': 'PERSON'}}, {'head': {'name': 'Uday', 'type': 'PERSON'}, 'relation': 'MADE_PROMISE', 'tail': {'name': 'Prosecutrix', 'type': 'PERSON'}}, {'head': {'name': 'Prosecutrix', 'type': 'PERSON'}, 'relation': 'WENT_OUT', 'tail': {'name': 'Uday', 'type': 'PERSON'}}, {'head': {'name': 'Uday', 'type': 'PERSON'}, 'relation': 'HAD_SEXUAL_RELATIONSHIP', 'tail': {'name': 'Prosecutrix', 'type': 'PERSON'}}, {'head': {'name': 'Uday', 'type': 'PERSON'}, 'relation': 'WAS_ACQUITTED', 'tail': {'name': 'Court', 'type': 'COURT'}}, {'head': {'name': 'State Of Karnataka', 'type': 'ORGANIZATION'}, 'relation': 'FILED_CHARGES', 'tail': {'name': 'Uday', 'type': 'PERSON'}}, {'head': {'name': 'Court', 'type': 'COURT'}, 'relation': 'HEARD_CASE', 'tail': {'name': 'Uday vs State Of Karnataka', 'type': 'CASE'}}, {'head': {'name': 'Uday vs State Of Karnataka', 'type': 'CASE'}, 'relation': 'WAS_HEARD', 'tail': {'name': 'Court', 'type': 'COURT'}}, {'head': {'name': 'Indian Kanoon', 'type': 'WEBSITE'}, 'relation': 'HOSTED_CASE', 'tail': {'name': 'Uday vs State Of Karnataka', 'type': 'CASE'}}, {'head': {'name': 'Uday', 'type': 'PETITIONER'}, 'tail': {'name': 'State of Karnataka', 'type': 'RESPONDENT'}, 'relation': 'VS'}, {'head': {'name': 'State of Karnataka', 'type': 'RESPONDENT'}, 'tail': {'name': 'Uday', 'type': 'PETITIONER'}, 'relation': 'VS'}, {'head': {'name': 'Section 376', 'type': 'PROVISION'}, 'tail': {'name': 'Indian Penal Code', 'type': 'STATUTE'}, 'relation': 'PART_OF'}, {'head': {'name': 'Indian Penal Code', 'type': 'STATUTE'}, 'tail': {'name': 'Section 376', 'type': 'PROVISION'}, 'relation': 'CONTAINS'}, {'head': {'name': 'RLC', 'type': 'OUTSIDE_LABEL'}, 'tail': {'name': 'High Court of Karnataka at Bangalore', 'type': 'COURT'}, 'relation': 'DECIDED_BY'}, {'head': {'name': 'High Court of Karnataka at Bangalore', 'type': 'COURT'}, 'tail': {'name': 'RLC', 'type': 'OUTSIDE_LABEL'}, 'relation': 'DECIDES'}, {'head': {'name': 'RLC', 'type': 'OUTSIDE_LABEL'}, 'tail': {'name': 'Sessions Judge, Karwar', 'type': 'COURT'}, 'relation': 'DECIDED_BY'}, {'head': {'name': 'Sessions Judge, Karwar', 'type': 'COURT'}, 'tail': {'name': 'RLC', 'type': 'OUTSIDE_LABEL'}, 'relation': 'DECIDES'}, {'head': {'name': 'Section 313', 'type': 'PROVISION'}, 'tail': {'name': 'Code of Criminal Procedure', 'type': 'STATUTE'}, 'relation': 'PART_OF'}, {'head': {'name': 'Code of Criminal Procedure', 'type': 'STATUTE'}, 'tail': {'name': 'Section 313', 'type': 'PROVISION'}, 'relation': 'CONTAINS'}, {'head': {'name': 'Section 375', 'type': 'PROVISION'}, 'tail': {'name': 'IPC', 'type': 'STATUTE'}, 'relation': 'PART_OF'}, {'head': {'name': 'IPC', 'type': 'STATUTE'}, 'tail': {'name': 'Section 375', 'type': 'PROVISION'}, 'relation': 'CONTAINS'}, {'head': {'name': 'IPC', 'type': 'STATUTE'}, 'tail': {'name': 'Section 90', 'type': 'PROVISION'}, 'relation': 'CONTAINS'}, {'head': {'name': 'Section 90', 'type': 'PROVISION'}, 'tail': {'name': 'IPC', 'type': 'STATUTE'}, 'relation': 'PART_OF'}, {'head': {'name': 'Indian Penal Code', 'type': 'STATUTE'}, 'tail': {'name': 'Section 375', 'type': 'PROVISION'}, 'relation': 'CONTAINS'}, {'head': {'name': 'Indian Penal Code', 'type': 'STATUTE'}, 'tail': {'name': 'Section 90', 'type': 'PROVISION'}, 'relation': 'CONTAINS'}, {'head': {'name': 'Section 375', 'type': 'PROVISION'}, 'tail': {'name': 'Indian Penal Code', 'type': 'STATUTE'}, 'relation': 'PART_OF'}, {'head': {'name': 'Section 90', 'type': 'PROVISION'}, 'tail': {'name': 'Indian Penal Code', 'type': 'STATUTE'}, 'relation': 'PART_OF'}, {'head': {'name': 'PRE_RELIED', 'type': 'OUTSIDE_LABEL'}, 'tail': {'name': 'isUday vs State Of Karnataka', 'type': 'PRECEDENT'}, 'relation': 'HAS'}, {'head': {'name': 'PRE_RELIED', 'type': 'OUTSIDE_LABEL'}, 'tail': {'name': 'Holman vs. The Queen : [1970] W.A.R. 2', 'type': 'PRECEDENT'}, 'relation': 'HAS'}, {'head': {'name': 'PRE_RELIED', 'type': 'OUTSIDE_LABEL'}, 'tail': {'name': 'R. vs. Olugboja : [1981] 3 W.L.R. 585', 'type': 'PRECEDENT'}, 'relation': 'HAS'}, {'head': {'name': 'PRE_RELIED', 'type': 'OUTSIDE_LABEL'}, 'tail': {'name': 'Queen vs. Clarence : (1888) 22 QBD 23', 'type': 'PRECEDENT'}, 'relation': 'HAS'}, {'head': {'name': 'PRE_RELIED', 'type': 'OUTSIDE_LABEL'}, 'tail': {'name': 'People vs. Perry, 26 Cal. App. 143', 'type': 'PRECEDENT'}, 'relation': 'HAS'}, {'head': {'name': 'PRE_RELIED', 'type': 'OUTSIDE_LABEL'}, 'tail': {'name': 'Rao Harnarain Singh vs. State : AIR 1958 Punjab 123', 'type': 'PRECEDENT'}, 'relation': 'HAS'}, {'head': {'name': 'PRE_RELIED', 'type': 'OUTSIDE_LABEL'}, 'tail': {'name': 'freelyUday vs State Of Karnataka', 'type': 'PRECEDENT'}, 'relation': 'HAS'}, {'head': {'name': 'Vijayan Pillai @ Babu vs. State of Kerala : 1989 (2) K.L.J.\\n234.', 'type': 'PRECEDENT'}, 'tail': {'name': 'High Court of Kerala', 'type': 'COURT'}, 'relation': 'ESTABLISHED_BY'}, {'head': {'name': 'PRE_RELIED', 'type': 'OUTSIDE_LABEL'}, 'tail': {'name': 'Vijayan Pillai @ Babu vs. State of Kerala : 1989 (2) K.L.J.\\n234.', 'type': 'PRECEDENT'}, 'relation': 'HAS'}, {'head': {'name': 'PRE_RELIED', 'type': 'OUTSIDE_LABEL'}, 'tail': {'name': 'Anthony alias Bakthavatsalu : AIR 1960 Madras 308', 'type': 'PRECEDENT'}, 'relation': 'HAS'}, {'head': {'name': 'PRE_RELIED', 'type': 'OUTSIDE_LABEL'}, 'tail': {'name': 'orUday vs State Of Karnataka', 'type': 'PRECEDENT'}, 'relation': 'HAS'}, {'head': {'name': 'Arjan Ram vs. The State : AIR 1960 Punjab 303', 'type': 'PRECEDENT'}, 'tail': {'name': 'Punjab High Court', 'type': 'COURT'}, 'relation': 'ESTABLISHED_BY'}, {'head': {'name': 'Arjan Ram vs. The State : AIR 1960 Punjab 303', 'type': 'PRECEDENT'}, 'tail': {'name': 'Rajasthan High Court', 'type': 'COURT'}, 'relation': 'ESTABLISHED_BY'}, {'head': {'name': 'Arjan Ram vs. The State : AIR 1960 Punjab 303', 'type': 'PRECEDENT'}, 'tail': {'name': 'Gopi Shankar vs. State : AIR 1967 Raj. 159', 'type': 'PRECEDENT'}, 'relation': 'SIMILAR_TO'}, {'head': {'name': 'Arjan Ram vs. The State : AIR 1960 Punjab 303', 'type': 'PRECEDENT'}, 'tail': {'name': 'Bombay High Court', 'type': 'COURT'}, 'relation': 'ESTABLISHED_BY'}, {'head': {'name': 'Arjan Ram vs. The State : AIR 1960 Punjab 303', 'type': 'PRECEDENT'}, 'tail': {'name': 'Bhimrao Harnooji Wanjari vs. State of Mahrashtra : 1975 Mah. L.J. 660', 'type': 'PRECEDENT'}, 'relation': 'SIMILAR_TO'}, {'head': {'name': 'Gopi Shankar vs. State : AIR 1967 Raj. 159', 'type': 'PRECEDENT'}, 'tail': {'name': 'Punjab High Court', 'type': 'COURT'}, 'relation': 'ESTABLISHED_BY'}, {'head': {'name': 'Gopi Shankar vs. State : AIR 1967 Raj. 159', 'type': 'PRECEDENT'}, 'tail': {'name': 'Arjan Ram vs. The State : AIR 1960 Punjab 303', 'type': 'PRECEDENT'}, 'relation': 'SIMILAR_TO'}, {'head': {'name': 'Gopi Shankar vs. State : AIR 1967 Raj. 159', 'type': 'PRECEDENT'}, 'tail': {'name': 'Rajasthan High Court', 'type': 'COURT'}, 'relation': 'ESTABLISHED_BY'}, {'head': {'name': 'Gopi Shankar vs. State : AIR 1967 Raj. 159', 'type': 'PRECEDENT'}, 'tail': {'name': 'Bombay High Court', 'type': 'COURT'}, 'relation': 'ESTABLISHED_BY'}, {'head': {'name': 'Gopi Shankar vs. State : AIR 1967 Raj. 159', 'type': 'PRECEDENT'}, 'tail': {'name': 'Bhimrao Harnooji Wanjari vs. State of Mahrashtra : 1975 Mah. L.J. 660', 'type': 'PRECEDENT'}, 'relation': 'SIMILAR_TO'}, {'head': {'name': 'Bhimrao Harnooji Wanjari vs. State of Mahrashtra : 1975 Mah. L.J. 660', 'type': 'PRECEDENT'}, 'tail': {'name': 'Punjab High Court', 'type': 'COURT'}, 'relation': 'ESTABLISHED_BY'}, {'head': {'name': 'Bhimrao Harnooji Wanjari vs. State of Mahrashtra : 1975 Mah. L.J. 660', 'type': 'PRECEDENT'}, 'tail': {'name': 'Arjan Ram vs. The State : AIR 1960 Punjab 303', 'type': 'PRECEDENT'}, 'relation': 'SIMILAR_TO'}, {'head': {'name': 'Bhimrao Harnooji Wanjari vs. State of Mahrashtra : 1975 Mah. L.J. 660', 'type': 'PRECEDENT'}, 'tail': {'name': 'Rajasthan High Court', 'type': 'COURT'}, 'relation': 'ESTABLISHED_BY'}, {'head': {'name': 'Bhimrao Harnooji Wanjari vs. State of Mahrashtra : 1975 Mah. L.J. 660', 'type': 'PRECEDENT'}, 'tail': {'name': 'Gopi Shankar vs. State : AIR 1967 Raj. 159', 'type': 'PRECEDENT'}, 'relation': 'SIMILAR_TO'}, {'head': {'name': 'Bhimrao Harnooji Wanjari vs. State of Mahrashtra : 1975 Mah. L.J. 660', 'type': 'PRECEDENT'}, 'tail': {'name': 'Bombay High Court', 'type': 'COURT'}, 'relation': 'ESTABLISHED_BY'}, {'head': {'name': 'PRE_RELIED', 'type': 'OUTSIDE_LABEL'}, 'tail': {'name': 'Arjan Ram vs. The State : AIR 1960 Punjab 303', 'type': 'PRECEDENT'}, 'relation': 'HAS'}, {'head': {'name': 'PRE_RELIED', 'type': 'OUTSIDE_LABEL'}, 'tail': {'name': 'Gopi Shankar vs. State : AIR 1967 Raj. 159', 'type': 'PRECEDENT'}, 'relation': 'HAS'}, {'head': {'name': 'PRE_RELIED', 'type': 'OUTSIDE_LABEL'}, 'tail': {'name': 'Bhimrao Harnooji Wanjari vs. State of Mahrashtra : 1975 Mah. L.J. 660', 'type': 'PRECEDENT'}, 'relation': 'HAS'}, {'head': {'name': 'PRE_RELIED', 'type': 'OUTSIDE_LABEL'}, 'tail': {'name': 'Jayanti Rani Panda vs. State of West Bengal and another :\\n1984 Crl. L.J. 1535', 'type': 'PRECEDENT'}, 'relation': 'HAS'}, {'head': {'name': 'S. 90', 'type': 'PROVISION'}, 'tail': {'name': 'IPC', 'type': 'STATUTE'}, 'relation': 'PART_OF'}, {'head': {'name': 'IPC', 'type': 'STATUTE'}, 'tail': {'name': 'S. 90', 'type': 'PROVISION'}, 'relation': 'CONTAINS'}, {'head': {'name': 'Hari Majhi vs. The State :\\n1990 Crl. L.J. 650', 'type': 'PRECEDENT'}, 'tail': {'name': 'Abhoy Pradhan vs. State of West Bengal :Uday vs State Of Karnataka', 'type': 'PRECEDENT'}, 'relation': 'SIMILAR_TO'}, {'head': {'name': 'Hari Majhi vs. The State :\\n1990 Crl. L.J. 650', 'type': 'PRECEDENT'}, 'tail': {'name': 'High Court of Karnataka', 'type': 'COURT'}, 'relation': 'ESTABLISHED_BY'}, {'head': {'name': 'Hari Majhi vs. The State :\\n1990 Crl. L.J. 650', 'type': 'PRECEDENT'}, 'tail': {'name': 'State of Karnataka vs. Anthonidas : ILR 2000 Kar. 266', 'type': 'PRECEDENT'}, 'relation': 'SIMILAR_TO'}, {'head': {'name': 'Abhoy Pradhan vs. State of West Bengal :Uday vs State Of Karnataka', 'type': 'PRECEDENT'}, 'tail': {'name': 'Hari Majhi vs. The State :\\n1990 Crl. L.J. 650', 'type': 'PRECEDENT'}, 'relation': 'SIMILAR_TO'}, {'head': {'name': 'Abhoy Pradhan vs. State of West Bengal :Uday vs State Of Karnataka', 'type': 'PRECEDENT'}, 'tail': {'name': 'High Court of Karnataka', 'type': 'COURT'}, 'relation': 'ESTABLISHED_BY'}, {'head': {'name': 'Abhoy Pradhan vs. State of West Bengal :Uday vs State Of Karnataka', 'type': 'PRECEDENT'}, 'tail': {'name': 'State of Karnataka vs. Anthonidas : ILR 2000 Kar. 266', 'type': 'PRECEDENT'}, 'relation': 'SIMILAR_TO'}, {'head': {'name': 'State of Karnataka vs. Anthonidas : ILR 2000 Kar. 266', 'type': 'PRECEDENT'}, 'tail': {'name': 'Hari Majhi vs. The State :\\n1990 Crl. L.J. 650', 'type': 'PRECEDENT'}, 'relation': 'SIMILAR_TO'}, {'head': {'name': 'State of Karnataka vs. Anthonidas : ILR 2000 Kar. 266', 'type': 'PRECEDENT'}, 'tail': {'name': 'Abhoy Pradhan vs. State of West Bengal :Uday vs State Of Karnataka', 'type': 'PRECEDENT'}, 'relation': 'SIMILAR_TO'}, {'head': {'name': 'State of Karnataka vs. Anthonidas : ILR 2000 Kar. 266', 'type': 'PRECEDENT'}, 'tail': {'name': 'High Court of Karnataka', 'type': 'COURT'}, 'relation': 'ESTABLISHED_BY'}, {'head': {'name': 'PRE_RELIED', 'type': 'OUTSIDE_LABEL'}, 'tail': {'name': 'Hari Majhi vs. The State :\\n1990 Crl. L.J. 650', 'type': 'PRECEDENT'}, 'relation': 'HAS'}, {'head': {'name': 'PRE_RELIED', 'type': 'OUTSIDE_LABEL'}, 'tail': {'name': 'Abhoy Pradhan vs. State of West Bengal :Uday vs State Of Karnataka', 'type': 'PRECEDENT'}, 'relation': 'HAS'}, {'head': {'name': 'PRE_RELIED', 'type': 'OUTSIDE_LABEL'}, 'tail': {'name': 'State of Karnataka vs. Anthonidas : ILR 2000 Kar. 266', 'type': 'PRECEDENT'}, 'relation': 'HAS'}, {'head': {'name': 'Nilambar Goudo vs. The State and another : 1982 Crl. L. J. NOC 172 (Orissa)', 'type': 'PRECEDENT'}, 'tail': {'name': 'Orissa High Court', 'type': 'COURT'}, 'relation': 'ESTABLISHED_BY'}, {'head': {'name': 'Nilambar Goudo vs. The State and another : 1982 Crl. L. J. NOC 172 (Orissa)', 'type': 'PRECEDENT'}, 'tail': {'name': 'Patna High Court', 'type': 'COURT'}, 'relation': 'ESTABLISHED_BY'}, {'head': {'name': 'PRE_RELIED', 'type': 'OUTSIDE_LABEL'}, 'tail': {'name': 'Nilambar Goudo vs. The State and another : 1982 Crl. L. J. NOC 172 (Orissa)', 'type': 'PRECEDENT'}, 'relation': 'HAS'}, {'head': {'name': 'PRE_RELIED', 'type': 'OUTSIDE_LABEL'}, 'tail': {'name': 'Saleha Khatoon vs. State of Bihar and another : 1989 Crl. L.J. 202', 'type': 'PRECEDENT'}, 'relation': 'HAS'}, {'head': {'name': 'Section 498', 'type': 'PROVISION'}, 'tail': {'name': 'IPC', 'type': 'STATUTE'}, 'relation': 'PART_OF'}, {'head': {'name': 'IPC', 'type': 'STATUTE'}, 'tail': {'name': 'Section 498', 'type': 'PROVISION'}, 'relation': 'CONTAINS'}, {'head': {'name': 'IPC', 'type': 'STATUTE'}, 'tail': {'name': 'Section 376', 'type': 'PROVISION'}, 'relation': 'CONTAINS'}, {'head': {'name': 'Section 376', 'type': 'PROVISION'}, 'tail': {'name': 'IPC', 'type': 'STATUTE'}, 'relation': 'PART_OF'}, {'head': {'name': 'Section 209', 'type': 'PROVISION'}, 'tail': {'name': 'Cr. P.C.', 'type': 'STATUTE'}, 'relation': 'PART_OF'}, {'head': {'name': 'Cr. P.C.', 'type': 'STATUTE'}, 'tail': {'name': 'Section 209', 'type': 'PROVISION'}, 'relation': 'CONTAINS'}, {'head': {'name': 'State of H.P. vs. Mango Ram (2000) 7 SCC 224', 'type': 'PRECEDENT'}, 'tail': {'name': 'Punjab High Court', 'type': 'COURT'}, 'relation': 'ESTABLISHED_BY'}, {'head': {'name': 'State of H.P. vs. Mango Ram (2000) 7 SCC 224', 'type': 'PRECEDENT'}, 'tail': {'name': 'Kerala High Court', 'type': 'COURT'}, 'relation': 'ESTABLISHED_BY'}, {'head': {'name': 'PRE_RELIED', 'type': 'OUTSIDE_LABEL'}, 'tail': {'name': 'State of H.P. vs. Mango Ram (2000) 7 SCC 224', 'type': 'PRECEDENT'}, 'relation': 'HAS'}, {'head': {'name': 'Section 375 Fourthly and Fifthly', 'type': 'PROVISION'}, 'tail': {'name': 'IPC', 'type': 'STATUTE'}, 'relation': 'PART_OF'}, {'head': {'name': 'IPC', 'type': 'STATUTE'}, 'tail': {'name': 'Section 375 Fourthly and Fifthly', 'type': 'PROVISION'}, 'relation': 'CONTAINS'}, {'head': {'name': 'Criminal Appeal No. 428 of 1992', 'type': 'CASE_NO'}, 'tail': {'name': 'The trial court as well as the High Court have concurrently held that though the prosecutrix had consented to sexual intercourse with the appellant, the consent was obtained by fraud and deception inasmuch as the appellant induced her to consent on the promise that he shall marry her.\\n\\nThe defence of the appellant was one of outright denial.\\n\\nThe Sessions Judge accepting the evidence of the prosecutrix concluded that though she had consented to have sexual intercourse with the appellant, that consent was not consent within the meaning of Section 375 Secondly IPC having regard to Section 90.\\nHe, therefore, held that in the facts and circumstances of the case, the appellant had sexual intercourse with the prosecutrix without her consent and was, therefore, guilty of the offence of rape punishable under Section 376 of the Indian Penal Code.\\n', 'type': 'FACTS'}, 'relation': 'HAS_FACTS'}, {'head': {'name': 'Criminal Appeal No. 428 of 1992', 'type': 'CASE_NO'}, 'tail': {'name': 'A belief that the promise of marriage was meant to be fulfilled is not a misconception of fact.\\n', 'type': 'ARGUMENTS'}, 'relation': 'HAS_ARGUMENT'}, {'head': {'name': 'Criminal Appeal No. 428 of 1992', 'type': 'CASE_NO'}, 'tail': {'name': 'The question of misconception of fact will arise only if the act consented to, is believed by the person consenting to be something else, and on that pretext sexual intercourse isUday vs State Of Karnataka on 19 February, 2003 Indian Kanoon - http://indiankanoon.org/doc/1100330/ 4committed.\\nIn such cases it cannot be said that she consented to sexual intercourse.\\nIn Jayanti Rani Panda vs. State of West Bengal and another :\\n1984 Crl. L.J. 1535 the facts were somewhat similar.\\n(Saleha Khatoon vs. State of Bihar and another : 1989 Crl. L.J. 202).\\n\\nIt therefore appears that the consensus of judicial opinion is in favour of the view that the consent given by the prosecutrix to sexual intercourse with a person with whomUday vs State Of Karnataka on 19 February, 2003 Indian Kanoon - http://indiankanoon.org/doc/1100330/ 8she is deeply in love on a promise that he would marry her on a later date, cannot be said to be given under a misconception of fact.\\nA false promise is not a fact within the meaning of the Code.\\nIn the ultimate analysis, the tests laid down by the Courts provide at best guidance to the judicial mind while considering a question of consent,\\nbut the Court must, in each case, consider the evidence before it and the surrounding circumstances, before reaching a conclusion, because each case has its own peculiar facts which may have a bearing on the question whether the consent was voluntary,\\nor was given under a misconception of fact.\\nIt must also weigh the evidence keeping in view the fact that the burden is on the prosecution to prove each and every ingredient of the offence, absence of consent being one of them.\\nIn the instant case, the prosecutrix was a grown up girl studying in a college.\\nShe was deeply in love with the appellant.\\nShe was however aware of the fact that since they belonged to different castes, marriage was not possible.\\nIn any event the proposal for their marriage was bound to be seriously opposed by their family members.\\nShe had sufficient intelligence to understand the significance and moral quality of the act she was consenting to.\\nDespite this, she did not resist the overtures of the appellant, and in fact succumbed to it.\\nShe thus freely exercised a choice between resistance and assent.\\nShe must have known the consequences of the act, particularly when she was conscious of the fact that their marriage may not take place at all on account of caste considerations.\\nAll these circumstances lead us to the conclusion that she freely, voluntarily, and consciously consented to having sexual intercourse with the appellant, and her consent was not in consequence of any misconception of fact.\\nThere is no evidence to prove conclusively that the appellant never intended to marry her.\\nPerhaps he wanted to, but was not able to gather enough courage to disclose his intention to his family members for fear of strong opposition from them.\\nIn a case of this nature two conditions must be fulfilled for the application of Section 90 IPC.\\n\\nFirstly, it must be shown that the consent was given under a misconception of fact.\\n\\nSecondly, it must be proved that the person who obtained the consent knew, or had reason to believe that the consent was given in consequence of such misconception.\\nThere was therefore a distinct possibility, of which she was clearly conscious, that the marriage may not take place at all despite the promise of the appellant.\\nIt usually happens in such cases, when two young persons are madly in love, that they promise to each other several times that come what may, they will get married.\\nIn such circumstances the promise loses all significance, particularly when they are over come with emotions and passion and find themselves in situations and circumstances where they, in a weak moment, succumb to the temptation of having sexual relationship.\\nIn any event, it was not possible for the appellant to know what was in the mind of the prosecutrix when she consented, because there were more reasons than one for her to consent.\\nUday vs State Of Karnataka on 19 February, 2003 Indian Kanoon - http://indiankanoon.org/doc/1100330/\\n', 'type': 'ANALYSIS'}, 'relation': 'HAS_ANALYSIS'}, {'head': {'name': 'Criminal Appeal No. 428 of 1992', 'type': 'CASE_NO'}, 'tail': {'name': '\\nIn the result, this appeal must succeed, and is accordingly allowed.\\nThe impugned judgment and order convicting and sentencing the appellant for the offence punishable under Section 376 IPC is set aside, and the appellant stands acquitted of the charge.\\nSince the appellant was granted exemption from surrendering when the special leave was granted, no further order for his release is necessary.\\n', 'type': 'DECISION'}, 'relation': 'HAS_DECISION'}]\n"
          ]
        }
      ]
    },
    {
      "cell_type": "code",
      "source": [
        "!pip install neo4j\n"
      ],
      "metadata": {
        "execution": {
          "iopub.status.busy": "2024-07-10T09:36:39.862575Z",
          "iopub.execute_input": "2024-07-10T09:36:39.862914Z",
          "iopub.status.idle": "2024-07-10T09:36:52.417591Z",
          "shell.execute_reply.started": "2024-07-10T09:36:39.862886Z",
          "shell.execute_reply": "2024-07-10T09:36:52.416647Z"
        },
        "trusted": true,
        "colab": {
          "base_uri": "https://localhost:8080/"
        },
        "id": "i-3JLXssTTbG",
        "outputId": "dd2342d8-f484-4dcf-89fc-8f3104725364"
      },
      "execution_count": 31,
      "outputs": [
        {
          "output_type": "stream",
          "name": "stdout",
          "text": [
            "Collecting neo4j\n",
            "  Downloading neo4j-5.22.0-py3-none-any.whl (293 kB)\n",
            "\u001b[?25l     \u001b[90m━━━━━━━━━━━━━━━━━━━━━━━━━━━━━━━━━━━━━━━━\u001b[0m \u001b[32m0.0/293.5 kB\u001b[0m \u001b[31m?\u001b[0m eta \u001b[36m-:--:--\u001b[0m\r\u001b[2K     \u001b[91m━━━━━━━━━━━━━━━━━━━━━━━━━━━━━━━━\u001b[0m\u001b[90m╺\u001b[0m\u001b[90m━━━━━━━\u001b[0m \u001b[32m235.5/293.5 kB\u001b[0m \u001b[31m6.8 MB/s\u001b[0m eta \u001b[36m0:00:01\u001b[0m\r\u001b[2K     \u001b[90m━━━━━━━━━━━━━━━━━━━━━━━━━━━━━━━━━━━━━━━━\u001b[0m \u001b[32m293.5/293.5 kB\u001b[0m \u001b[31m6.4 MB/s\u001b[0m eta \u001b[36m0:00:00\u001b[0m\n",
            "\u001b[?25hRequirement already satisfied: pytz in /usr/local/lib/python3.10/dist-packages (from neo4j) (2023.4)\n",
            "Installing collected packages: neo4j\n",
            "Successfully installed neo4j-5.22.0\n"
          ]
        }
      ]
    },
    {
      "cell_type": "code",
      "source": [],
      "metadata": {
        "id": "OZEIq6Xa0RHl"
      },
      "execution_count": null,
      "outputs": []
    },
    {
      "cell_type": "code",
      "source": [
        "from neo4j import GraphDatabase\n",
        "\n",
        "# Replace these with your AuraDB credentials\n",
        "uri = \"neo4j+s://6cb5ec24.databases.neo4j.io\"\n",
        "user = \"neo4j\"\n",
        "password = \"Ww3XWwg1qPUkKzeCoxmBGeM0Jw9pY3HZLQ2V7vzQwjA\"\n",
        "\n"
      ],
      "metadata": {
        "execution": {
          "iopub.status.busy": "2024-07-10T10:13:06.819585Z",
          "iopub.execute_input": "2024-07-10T10:13:06.820379Z",
          "iopub.status.idle": "2024-07-10T10:13:06.824543Z",
          "shell.execute_reply.started": "2024-07-10T10:13:06.820351Z",
          "shell.execute_reply": "2024-07-10T10:13:06.823655Z"
        },
        "trusted": true,
        "id": "TyyrG_eaTTbH"
      },
      "execution_count": 32,
      "outputs": []
    },
    {
      "cell_type": "code",
      "source": [
        "pip install py2neo"
      ],
      "metadata": {
        "execution": {
          "iopub.status.busy": "2024-07-10T09:36:52.889409Z",
          "iopub.execute_input": "2024-07-10T09:36:52.890442Z",
          "iopub.status.idle": "2024-07-10T09:37:05.749816Z",
          "shell.execute_reply.started": "2024-07-10T09:36:52.890390Z",
          "shell.execute_reply": "2024-07-10T09:37:05.748655Z"
        },
        "trusted": true,
        "colab": {
          "base_uri": "https://localhost:8080/"
        },
        "id": "XnFfUKkITTbH",
        "outputId": "4c3b7ca2-a086-4a80-bd7c-88bbc93fd69b"
      },
      "execution_count": 33,
      "outputs": [
        {
          "output_type": "stream",
          "name": "stdout",
          "text": [
            "Collecting py2neo\n",
            "  Downloading py2neo-2021.2.4-py2.py3-none-any.whl (177 kB)\n",
            "\u001b[?25l     \u001b[90m━━━━━━━━━━━━━━━━━━━━━━━━━━━━━━━━━━━━━━━━\u001b[0m \u001b[32m0.0/177.2 kB\u001b[0m \u001b[31m?\u001b[0m eta \u001b[36m-:--:--\u001b[0m\r\u001b[2K     \u001b[91m━━━━━━━━━━━━━━━━━━━━━━━━━━━━━━━━━━\u001b[0m\u001b[91m╸\u001b[0m\u001b[90m━━━━━\u001b[0m \u001b[32m153.6/177.2 kB\u001b[0m \u001b[31m4.3 MB/s\u001b[0m eta \u001b[36m0:00:01\u001b[0m\r\u001b[2K     \u001b[90m━━━━━━━━━━━━━━━━━━━━━━━━━━━━━━━━━━━━━━━━\u001b[0m \u001b[32m177.2/177.2 kB\u001b[0m \u001b[31m4.1 MB/s\u001b[0m eta \u001b[36m0:00:00\u001b[0m\n",
            "\u001b[?25hRequirement already satisfied: certifi in /usr/local/lib/python3.10/dist-packages (from py2neo) (2024.6.2)\n",
            "Collecting interchange~=2021.0.4 (from py2neo)\n",
            "  Downloading interchange-2021.0.4-py2.py3-none-any.whl (28 kB)\n",
            "Collecting monotonic (from py2neo)\n",
            "  Downloading monotonic-1.6-py2.py3-none-any.whl (8.2 kB)\n",
            "Requirement already satisfied: packaging in /usr/local/lib/python3.10/dist-packages (from py2neo) (24.1)\n",
            "Collecting pansi>=2020.7.3 (from py2neo)\n",
            "  Downloading pansi-2020.7.3-py2.py3-none-any.whl (10 kB)\n",
            "Requirement already satisfied: pygments>=2.0.0 in /usr/local/lib/python3.10/dist-packages (from py2neo) (2.16.1)\n",
            "Requirement already satisfied: six>=1.15.0 in /usr/local/lib/python3.10/dist-packages (from py2neo) (1.16.0)\n",
            "Requirement already satisfied: urllib3 in /usr/local/lib/python3.10/dist-packages (from py2neo) (2.0.7)\n",
            "Requirement already satisfied: pytz in /usr/local/lib/python3.10/dist-packages (from interchange~=2021.0.4->py2neo) (2023.4)\n",
            "Installing collected packages: monotonic, pansi, interchange, py2neo\n",
            "Successfully installed interchange-2021.0.4 monotonic-1.6 pansi-2020.7.3 py2neo-2021.2.4\n"
          ]
        }
      ]
    },
    {
      "cell_type": "code",
      "source": [
        "pip install pyvis"
      ],
      "metadata": {
        "execution": {
          "iopub.status.busy": "2024-07-10T09:37:05.752682Z",
          "iopub.execute_input": "2024-07-10T09:37:05.753303Z",
          "iopub.status.idle": "2024-07-10T09:37:18.473057Z",
          "shell.execute_reply.started": "2024-07-10T09:37:05.753269Z",
          "shell.execute_reply": "2024-07-10T09:37:18.471693Z"
        },
        "trusted": true,
        "colab": {
          "base_uri": "https://localhost:8080/"
        },
        "id": "QeN5AQXQTTbH",
        "outputId": "15e7cef4-aee6-49ca-c5de-5a2d8df6d860"
      },
      "execution_count": 34,
      "outputs": [
        {
          "output_type": "stream",
          "name": "stdout",
          "text": [
            "Collecting pyvis\n",
            "  Downloading pyvis-0.3.2-py3-none-any.whl (756 kB)\n",
            "\u001b[?25l     \u001b[90m━━━━━━━━━━━━━━━━━━━━━━━━━━━━━━━━━━━━━━━━\u001b[0m \u001b[32m0.0/756.0 kB\u001b[0m \u001b[31m?\u001b[0m eta \u001b[36m-:--:--\u001b[0m\r\u001b[2K     \u001b[91m━━━━━━━━━\u001b[0m\u001b[90m╺\u001b[0m\u001b[90m━━━━━━━━━━━━━━━━━━━━━━━━━━━━━━\u001b[0m \u001b[32m174.1/756.0 kB\u001b[0m \u001b[31m5.0 MB/s\u001b[0m eta \u001b[36m0:00:01\u001b[0m\r\u001b[2K     \u001b[91m━━━━━━━━━━━━━━━━━━━━━━━━━━━━\u001b[0m\u001b[90m╺\u001b[0m\u001b[90m━━━━━━━━━━━\u001b[0m \u001b[32m532.5/756.0 kB\u001b[0m \u001b[31m7.6 MB/s\u001b[0m eta \u001b[36m0:00:01\u001b[0m\r\u001b[2K     \u001b[90m━━━━━━━━━━━━━━━━━━━━━━━━━━━━━━━━━━━━━━━━\u001b[0m \u001b[32m756.0/756.0 kB\u001b[0m \u001b[31m7.6 MB/s\u001b[0m eta \u001b[36m0:00:00\u001b[0m\n",
            "\u001b[?25hRequirement already satisfied: ipython>=5.3.0 in /usr/local/lib/python3.10/dist-packages (from pyvis) (7.34.0)\n",
            "Requirement already satisfied: jinja2>=2.9.6 in /usr/local/lib/python3.10/dist-packages (from pyvis) (3.1.4)\n",
            "Requirement already satisfied: jsonpickle>=1.4.1 in /usr/local/lib/python3.10/dist-packages (from pyvis) (3.2.2)\n",
            "Requirement already satisfied: networkx>=1.11 in /usr/local/lib/python3.10/dist-packages (from pyvis) (3.3)\n",
            "Requirement already satisfied: setuptools>=18.5 in /usr/local/lib/python3.10/dist-packages (from ipython>=5.3.0->pyvis) (67.7.2)\n",
            "Collecting jedi>=0.16 (from ipython>=5.3.0->pyvis)\n",
            "  Downloading jedi-0.19.1-py2.py3-none-any.whl (1.6 MB)\n",
            "\u001b[2K     \u001b[90m━━━━━━━━━━━━━━━━━━━━━━━━━━━━━━━━━━━━━━━━\u001b[0m \u001b[32m1.6/1.6 MB\u001b[0m \u001b[31m15.5 MB/s\u001b[0m eta \u001b[36m0:00:00\u001b[0m\n",
            "\u001b[?25hRequirement already satisfied: decorator in /usr/local/lib/python3.10/dist-packages (from ipython>=5.3.0->pyvis) (4.4.2)\n",
            "Requirement already satisfied: pickleshare in /usr/local/lib/python3.10/dist-packages (from ipython>=5.3.0->pyvis) (0.7.5)\n",
            "Requirement already satisfied: traitlets>=4.2 in /usr/local/lib/python3.10/dist-packages (from ipython>=5.3.0->pyvis) (5.7.1)\n",
            "Requirement already satisfied: prompt-toolkit!=3.0.0,!=3.0.1,<3.1.0,>=2.0.0 in /usr/local/lib/python3.10/dist-packages (from ipython>=5.3.0->pyvis) (3.0.47)\n",
            "Requirement already satisfied: pygments in /usr/local/lib/python3.10/dist-packages (from ipython>=5.3.0->pyvis) (2.16.1)\n",
            "Requirement already satisfied: backcall in /usr/local/lib/python3.10/dist-packages (from ipython>=5.3.0->pyvis) (0.2.0)\n",
            "Requirement already satisfied: matplotlib-inline in /usr/local/lib/python3.10/dist-packages (from ipython>=5.3.0->pyvis) (0.1.7)\n",
            "Requirement already satisfied: pexpect>4.3 in /usr/local/lib/python3.10/dist-packages (from ipython>=5.3.0->pyvis) (4.9.0)\n",
            "Requirement already satisfied: MarkupSafe>=2.0 in /usr/local/lib/python3.10/dist-packages (from jinja2>=2.9.6->pyvis) (2.1.5)\n",
            "Requirement already satisfied: parso<0.9.0,>=0.8.3 in /usr/local/lib/python3.10/dist-packages (from jedi>=0.16->ipython>=5.3.0->pyvis) (0.8.4)\n",
            "Requirement already satisfied: ptyprocess>=0.5 in /usr/local/lib/python3.10/dist-packages (from pexpect>4.3->ipython>=5.3.0->pyvis) (0.7.0)\n",
            "Requirement already satisfied: wcwidth in /usr/local/lib/python3.10/dist-packages (from prompt-toolkit!=3.0.0,!=3.0.1,<3.1.0,>=2.0.0->ipython>=5.3.0->pyvis) (0.2.13)\n",
            "Installing collected packages: jedi, pyvis\n",
            "Successfully installed jedi-0.19.1 pyvis-0.3.2\n"
          ]
        }
      ]
    },
    {
      "cell_type": "code",
      "source": [
        "from neo4j import GraphDatabase\n",
        "import logging\n",
        "\n",
        "# Create a connection to AuraDB\n",
        "def create_auradb_connection(uri, user, password):\n",
        "    try:\n",
        "        driver = GraphDatabase.driver(uri, auth=(user, password))\n",
        "        return driver\n",
        "    except Exception as e:\n",
        "        logging.error(f\"Error creating AuraDB connection: {e}\")\n",
        "        raise\n",
        "\n",
        "# Function to insert a tuple into AuraDB\n",
        "def insert_tuple(tx, entity1_value, entity1_type, relation, entity2_value, entity2_type):\n",
        "    try:\n",
        "        query = f\"\"\"\n",
        "                    MERGE (a:{entity1_type} {{name: $entity1_value}})\n",
        "                    MERGE (b:{entity2_type} {{name: $entity2_value}})\n",
        "                    MERGE (a)-[r:{relation}]->(b)\n",
        "                \"\"\"\n",
        "        tx.run(query, entity1_value=entity1_value, entity1_type=entity1_type,\n",
        "               relation=relation, entity2_value=entity2_value, entity2_type=entity2_type)\n",
        "    except Exception as e:\n",
        "        logging.error(f\"Error inserting tuple: {e}\")\n",
        "        raise\n",
        "\n",
        "# Process and insert dictionaries into AuraDB\n",
        "def process_and_insert_dicts(uri, user, password, dicts):\n",
        "    driver = create_auradb_connection(uri, user, password)\n",
        "    try:\n",
        "        with driver.session() as session:\n",
        "            for d in dicts:\n",
        "                head = d['head']\n",
        "                tail = d['tail']\n",
        "                try:\n",
        "                    session.write_transaction(\n",
        "                        insert_tuple,\n",
        "                        head['name'], head['type'],\n",
        "                        d['relation'],\n",
        "                        tail['name'], tail['type']\n",
        "                    )\n",
        "                except Exception as e:\n",
        "                    logging.error(f\"Error processing dictionary: {d}, Error: {e}\")\n",
        "                    continue\n",
        "    except Exception as e:\n",
        "        logging.error(f\"Error during session operation: {e}\")\n",
        "        raise\n",
        "    finally:\n",
        "        driver.close()\n",
        "\n",
        "# Process and insert dictionaries into AuraDB\n",
        "process_and_insert_dicts(uri, user, password, result)\n"
      ],
      "metadata": {
        "execution": {
          "iopub.status.busy": "2024-07-10T10:18:49.003976Z",
          "iopub.execute_input": "2024-07-10T10:18:49.004352Z",
          "iopub.status.idle": "2024-07-10T10:18:51.823408Z",
          "shell.execute_reply.started": "2024-07-10T10:18:49.004322Z",
          "shell.execute_reply": "2024-07-10T10:18:51.822662Z"
        },
        "trusted": true,
        "colab": {
          "base_uri": "https://localhost:8080/"
        },
        "id": "1BKBgbagTTbH",
        "outputId": "de0eb1bc-b52c-4551-87d6-4c7cefd068d3"
      },
      "execution_count": 66,
      "outputs": [
        {
          "output_type": "stream",
          "name": "stderr",
          "text": [
            "<ipython-input-66-fe599f831fde>:36: DeprecationWarning: write_transaction has been renamed to execute_write\n",
            "  session.write_transaction(\n"
          ]
        }
      ]
    },
    {
      "cell_type": "code",
      "source": [
        "#RENDERING EXISTING KNOWLEDGE GRAPH FROM AURADB AS HTML(WITH COLOUR)\n",
        "from py2neo import Graph\n",
        "from pyvis.network import Network\n",
        "import matplotlib.pyplot as plt\n",
        "import matplotlib.colors as mcolors\n",
        "import random\n",
        "\n",
        "\n",
        "driver = GraphDatabase.driver(uri, auth=(user, password))\n",
        "graph = Graph(uri, auth=(user, password))\n",
        "\n",
        "# Define a Cypher query to retrieve nodes and relationships\n",
        "query = \"\"\"\n",
        "MATCH (n)-[r]->(m)\n",
        "RETURN n, r, m\n",
        "LIMIT 400\n",
        "\"\"\"\n",
        "\n",
        "result = graph.run(query)\n",
        "\n",
        "# Create a pyvis network\n",
        "net = Network(height='1000px', width='100%', notebook=True, bgcolor='#FAF9F6', font_color='black')\n",
        "\n",
        "# Function to generate a random color\n",
        "def random_color():\n",
        "    return \"#{:06x}\".format(random.randint(0, 0xFFFFFF))\n",
        "\n",
        "# Dictionary to store colors for each label\n",
        "label_colors = {}\n",
        "\n",
        "# Add nodes and edges from the query result\n",
        "for record in result:\n",
        "    n = record[\"n\"]\n",
        "    r = record[\"r\"]\n",
        "    m = record[\"m\"]\n",
        "\n",
        "    # Ensure names and labels are strings for serialization\n",
        "    n_name = str(n[\"name\"])\n",
        "    m_name = str(m[\"name\"])\n",
        "    n_labels = list(n.labels)\n",
        "    m_labels = list(m.labels)\n",
        "    r_type = r.__class__.__name__\n",
        "    # Assign colors to labels dynamically\n",
        "    if n_labels:\n",
        "        for label in n_labels:\n",
        "            if label not in label_colors:\n",
        "                label_colors[label] = random_color()\n",
        "        n_color = label_colors[n_labels[0]]\n",
        "    else:\n",
        "        n_color = random_color()\n",
        "\n",
        "    if m_labels:\n",
        "        for label in m_labels:\n",
        "            if label not in label_colors:\n",
        "                label_colors[label] = random_color()\n",
        "        m_color = label_colors[m_labels[0]]\n",
        "    else:\n",
        "        m_color = random_color()\n",
        "\n",
        "    net.add_node(n_name, label=n_name, title=\", \".join(n_labels), color=n_color)\n",
        "    net.add_node(m_name, label=m_name, title=\", \".join(m_labels), color=m_color)\n",
        "    net.add_edge(n_name, m_name,title=r_type, color='#FFD700')\n",
        "\n",
        "# Generate network with options\n",
        "net.show_buttons(filter_=['physics'])\n",
        "net.show('knowledge_graph.html')\n"
      ],
      "metadata": {
        "execution": {
          "iopub.status.busy": "2024-07-10T10:34:47.273659Z",
          "iopub.execute_input": "2024-07-10T10:34:47.274292Z",
          "iopub.status.idle": "2024-07-10T10:35:11.017593Z",
          "shell.execute_reply.started": "2024-07-10T10:34:47.274261Z",
          "shell.execute_reply": "2024-07-10T10:35:11.016707Z"
        },
        "trusted": true,
        "colab": {
          "base_uri": "https://localhost:8080/",
          "height": 1000
        },
        "id": "R3OUNKrxTTbI",
        "outputId": "3ba107c0-0c85-4153-dc95-7ef32b0bd595"
      },
      "execution_count": 67,
      "outputs": [
        {
          "output_type": "stream",
          "name": "stdout",
          "text": [
            "Warning: When  cdn_resources is 'local' jupyter notebook has issues displaying graphics on chrome/safari. Use cdn_resources='in_line' or cdn_resources='remote' if you have issues viewing graphics in a notebook.\n",
            "knowledge_graph.html\n"
          ]
        },
        {
          "output_type": "execute_result",
          "data": {
            "text/plain": [
              "<IPython.lib.display.IFrame at 0x7f4872231fc0>"
            ],
            "text/html": [
              "\n",
              "        <iframe\n",
              "            width=\"100%\"\n",
              "            height=\"1000px\"\n",
              "            src=\"knowledge_graph.html\"\n",
              "            frameborder=\"0\"\n",
              "            allowfullscreen\n",
              "            \n",
              "        ></iframe>\n",
              "        "
            ]
          },
          "metadata": {},
          "execution_count": 67
        }
      ]
    },
    {
      "cell_type": "code",
      "source": [],
      "metadata": {
        "id": "hdHVuVSfTTbI"
      },
      "execution_count": null,
      "outputs": []
    }
  ]
}